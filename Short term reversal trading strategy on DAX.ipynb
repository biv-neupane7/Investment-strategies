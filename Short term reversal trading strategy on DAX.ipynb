{
 "cells": [
  {
   "cell_type": "code",
   "execution_count": 1,
   "id": "06b5add7",
   "metadata": {},
   "outputs": [],
   "source": [
    "# importing all the required packages\n",
    "\n",
    "import pandas as pd\n",
    "import numpy as np\n",
    "import pandas_datareader as reader\n",
    "import yfinance as yf\n",
    "import datetime as dt\n",
    "from pandas.tseries.offsets import MonthEnd\n"
   ]
  },
  {
   "cell_type": "code",
   "execution_count": 2,
   "id": "a6f78dc1",
   "metadata": {},
   "outputs": [],
   "source": [
    "# Getting all the ticker symbols of the components of MDAX\n",
    "\n",
    "ticker=pd.read_html(\"https://en.wikipedia.org/wiki/DAX\")[4]\n"
   ]
  },
  {
   "cell_type": "code",
   "execution_count": 3,
   "id": "fe185aac",
   "metadata": {},
   "outputs": [
    {
     "data": {
      "text/html": [
       "<div>\n",
       "<style scoped>\n",
       "    .dataframe tbody tr th:only-of-type {\n",
       "        vertical-align: middle;\n",
       "    }\n",
       "\n",
       "    .dataframe tbody tr th {\n",
       "        vertical-align: top;\n",
       "    }\n",
       "\n",
       "    .dataframe thead th {\n",
       "        text-align: right;\n",
       "    }\n",
       "</style>\n",
       "<table border=\"1\" class=\"dataframe\">\n",
       "  <thead>\n",
       "    <tr style=\"text-align: right;\">\n",
       "      <th></th>\n",
       "      <th>Logo</th>\n",
       "      <th>Company</th>\n",
       "      <th>Prime Standard Sector</th>\n",
       "      <th>Ticker</th>\n",
       "      <th>Index weighting (%)1</th>\n",
       "      <th>Employees</th>\n",
       "      <th>Founded</th>\n",
       "    </tr>\n",
       "  </thead>\n",
       "  <tbody>\n",
       "    <tr>\n",
       "      <th>0</th>\n",
       "      <td>NaN</td>\n",
       "      <td>Adidas</td>\n",
       "      <td>Textile</td>\n",
       "      <td>ADS.DE</td>\n",
       "      <td>2.1</td>\n",
       "      <td>061,401 (2021)</td>\n",
       "      <td>1924</td>\n",
       "    </tr>\n",
       "    <tr>\n",
       "      <th>1</th>\n",
       "      <td>NaN</td>\n",
       "      <td>Airbus</td>\n",
       "      <td>Aerospace</td>\n",
       "      <td>AIR.DE</td>\n",
       "      <td>5.0</td>\n",
       "      <td>126.495 (2021)</td>\n",
       "      <td>1970</td>\n",
       "    </tr>\n",
       "    <tr>\n",
       "      <th>2</th>\n",
       "      <td>NaN</td>\n",
       "      <td>Allianz</td>\n",
       "      <td>Financial Services</td>\n",
       "      <td>ALV.DE</td>\n",
       "      <td>6.6</td>\n",
       "      <td>155,411 (2021)</td>\n",
       "      <td>1890</td>\n",
       "    </tr>\n",
       "  </tbody>\n",
       "</table>\n",
       "</div>"
      ],
      "text/plain": [
       "   Logo  Company Prime Standard Sector  Ticker  Index weighting (%)1  \\\n",
       "0   NaN   Adidas               Textile  ADS.DE                   2.1   \n",
       "1   NaN   Airbus             Aerospace  AIR.DE                   5.0   \n",
       "2   NaN  Allianz    Financial Services  ALV.DE                   6.6   \n",
       "\n",
       "        Employees  Founded  \n",
       "0  061,401 (2021)     1924  \n",
       "1  126.495 (2021)     1970  \n",
       "2  155,411 (2021)     1890  "
      ]
     },
     "execution_count": 3,
     "metadata": {},
     "output_type": "execute_result"
    }
   ],
   "source": [
    "ticker.head(3)"
   ]
  },
  {
   "cell_type": "code",
   "execution_count": 4,
   "id": "0569c61e",
   "metadata": {},
   "outputs": [
    {
     "data": {
      "text/plain": [
       "['ADS.DE',\n",
       " 'AIR.DE',\n",
       " 'ALV.DE',\n",
       " 'BAS.DE',\n",
       " 'BAYN.DE',\n",
       " 'BEI.DE',\n",
       " 'BMW.DE',\n",
       " 'BNR.DE',\n",
       " 'CON.DE',\n",
       " '1COV.DE',\n",
       " 'DTG.DE',\n",
       " 'DBK.DE',\n",
       " 'DB1.DE',\n",
       " 'DPW.DE',\n",
       " 'DTE.DE',\n",
       " 'EOAN.DE',\n",
       " 'FRE.DE',\n",
       " 'FME.DE',\n",
       " 'HNR1.DE',\n",
       " 'HEI.DE',\n",
       " 'HEN3.DE',\n",
       " 'IFX.DE',\n",
       " 'LIN.DE',\n",
       " 'MBG.DE',\n",
       " 'MRK.DE',\n",
       " 'MTX.DE',\n",
       " 'MUV2.DE',\n",
       " 'PAH3.DE',\n",
       " 'PUM.DE',\n",
       " 'QIA.DE',\n",
       " 'RWE.DE',\n",
       " 'SAP.DE',\n",
       " 'SRT3.DE',\n",
       " 'SIE.DE',\n",
       " 'ENR.DE',\n",
       " 'SHL.DE',\n",
       " 'SY1.DE',\n",
       " 'VOW3.DE',\n",
       " 'VNA.DE',\n",
       " 'ZAL.DE']"
      ]
     },
     "execution_count": 4,
     "metadata": {},
     "output_type": "execute_result"
    }
   ],
   "source": [
    "tickers=ticker.Ticker.to_list()\n",
    "tickers"
   ]
  },
  {
   "cell_type": "code",
   "execution_count": null,
   "id": "fe257ec5",
   "metadata": {},
   "outputs": [],
   "source": []
  },
  {
   "cell_type": "code",
   "execution_count": 5,
   "id": "e7228c09",
   "metadata": {},
   "outputs": [
    {
     "name": "stdout",
     "output_type": "stream",
     "text": [
      "[*********************100%***********************]  40 of 40 completed\n",
      "\n",
      "1 Failed download:\n",
      "- DTG.DE: Data doesn't exist for startDate = 1293836400, endDate = 1609369200\n"
     ]
    }
   ],
   "source": [
    "# Using the above ticker symbols, get the price date for each stock for the last 10 years\n",
    "\n",
    "dax=yf.download(tickers, start=\"2011-01-01\", end=\"2020-12-31\")"
   ]
  },
  {
   "cell_type": "code",
   "execution_count": 6,
   "id": "09903a7c",
   "metadata": {},
   "outputs": [],
   "source": [
    "price_data=dax[\"Adj Close\"]"
   ]
  },
  {
   "cell_type": "code",
   "execution_count": 7,
   "id": "705d72e2",
   "metadata": {},
   "outputs": [
    {
     "data": {
      "text/html": [
       "<div>\n",
       "<style scoped>\n",
       "    .dataframe tbody tr th:only-of-type {\n",
       "        vertical-align: middle;\n",
       "    }\n",
       "\n",
       "    .dataframe tbody tr th {\n",
       "        vertical-align: top;\n",
       "    }\n",
       "\n",
       "    .dataframe thead th {\n",
       "        text-align: right;\n",
       "    }\n",
       "</style>\n",
       "<table border=\"1\" class=\"dataframe\">\n",
       "  <thead>\n",
       "    <tr style=\"text-align: right;\">\n",
       "      <th></th>\n",
       "      <th>1COV.DE</th>\n",
       "      <th>ADS.DE</th>\n",
       "      <th>AIR.DE</th>\n",
       "      <th>ALV.DE</th>\n",
       "      <th>BAS.DE</th>\n",
       "      <th>BAYN.DE</th>\n",
       "      <th>BEI.DE</th>\n",
       "      <th>BMW.DE</th>\n",
       "      <th>BNR.DE</th>\n",
       "      <th>CON.DE</th>\n",
       "      <th>...</th>\n",
       "      <th>QIA.DE</th>\n",
       "      <th>RWE.DE</th>\n",
       "      <th>SAP.DE</th>\n",
       "      <th>SHL.DE</th>\n",
       "      <th>SIE.DE</th>\n",
       "      <th>SRT3.DE</th>\n",
       "      <th>SY1.DE</th>\n",
       "      <th>VNA.DE</th>\n",
       "      <th>VOW3.DE</th>\n",
       "      <th>ZAL.DE</th>\n",
       "    </tr>\n",
       "    <tr>\n",
       "      <th>Date</th>\n",
       "      <th></th>\n",
       "      <th></th>\n",
       "      <th></th>\n",
       "      <th></th>\n",
       "      <th></th>\n",
       "      <th></th>\n",
       "      <th></th>\n",
       "      <th></th>\n",
       "      <th></th>\n",
       "      <th></th>\n",
       "      <th></th>\n",
       "      <th></th>\n",
       "      <th></th>\n",
       "      <th></th>\n",
       "      <th></th>\n",
       "      <th></th>\n",
       "      <th></th>\n",
       "      <th></th>\n",
       "      <th></th>\n",
       "      <th></th>\n",
       "      <th></th>\n",
       "    </tr>\n",
       "  </thead>\n",
       "  <tbody>\n",
       "    <tr>\n",
       "      <th>2020-12-28 00:00:00</th>\n",
       "      <td>45.616440</td>\n",
       "      <td>290.751221</td>\n",
       "      <td>90.629105</td>\n",
       "      <td>184.017014</td>\n",
       "      <td>57.974972</td>\n",
       "      <td>45.302265</td>\n",
       "      <td>93.407288</td>\n",
       "      <td>65.222076</td>\n",
       "      <td>61.870625</td>\n",
       "      <td>118.949577</td>\n",
       "      <td>...</td>\n",
       "      <td>42.799999</td>\n",
       "      <td>33.356606</td>\n",
       "      <td>102.964241</td>\n",
       "      <td>41.024109</td>\n",
       "      <td>113.016350</td>\n",
       "      <td>334.766144</td>\n",
       "      <td>106.728798</td>\n",
       "      <td>55.276020</td>\n",
       "      <td>141.501663</td>\n",
       "      <td>88.400002</td>\n",
       "    </tr>\n",
       "    <tr>\n",
       "      <th>2020-12-29 00:00:00</th>\n",
       "      <td>45.887863</td>\n",
       "      <td>290.945526</td>\n",
       "      <td>91.802269</td>\n",
       "      <td>183.426620</td>\n",
       "      <td>57.841637</td>\n",
       "      <td>45.264961</td>\n",
       "      <td>93.958832</td>\n",
       "      <td>64.929207</td>\n",
       "      <td>62.236263</td>\n",
       "      <td>118.659576</td>\n",
       "      <td>...</td>\n",
       "      <td>42.439999</td>\n",
       "      <td>33.289932</td>\n",
       "      <td>104.470657</td>\n",
       "      <td>40.873962</td>\n",
       "      <td>111.216423</td>\n",
       "      <td>342.329224</td>\n",
       "      <td>107.268822</td>\n",
       "      <td>55.631069</td>\n",
       "      <td>140.705048</td>\n",
       "      <td>91.400002</td>\n",
       "    </tr>\n",
       "    <tr>\n",
       "      <th>2020-12-30 00:00:00</th>\n",
       "      <td>45.670727</td>\n",
       "      <td>289.391205</td>\n",
       "      <td>90.027740</td>\n",
       "      <td>182.291260</td>\n",
       "      <td>57.530518</td>\n",
       "      <td>44.905937</td>\n",
       "      <td>93.013336</td>\n",
       "      <td>64.103836</td>\n",
       "      <td>60.946888</td>\n",
       "      <td>117.209557</td>\n",
       "      <td>...</td>\n",
       "      <td>42.450001</td>\n",
       "      <td>32.927979</td>\n",
       "      <td>104.881500</td>\n",
       "      <td>40.665691</td>\n",
       "      <td>111.330101</td>\n",
       "      <td>341.931152</td>\n",
       "      <td>106.434242</td>\n",
       "      <td>55.836628</td>\n",
       "      <td>141.186722</td>\n",
       "      <td>91.059998</td>\n",
       "    </tr>\n",
       "  </tbody>\n",
       "</table>\n",
       "<p>3 rows × 40 columns</p>\n",
       "</div>"
      ],
      "text/plain": [
       "                       1COV.DE      ADS.DE     AIR.DE      ALV.DE     BAS.DE  \\\n",
       "Date                                                                           \n",
       "2020-12-28 00:00:00  45.616440  290.751221  90.629105  184.017014  57.974972   \n",
       "2020-12-29 00:00:00  45.887863  290.945526  91.802269  183.426620  57.841637   \n",
       "2020-12-30 00:00:00  45.670727  289.391205  90.027740  182.291260  57.530518   \n",
       "\n",
       "                       BAYN.DE     BEI.DE     BMW.DE     BNR.DE      CON.DE  \\\n",
       "Date                                                                          \n",
       "2020-12-28 00:00:00  45.302265  93.407288  65.222076  61.870625  118.949577   \n",
       "2020-12-29 00:00:00  45.264961  93.958832  64.929207  62.236263  118.659576   \n",
       "2020-12-30 00:00:00  44.905937  93.013336  64.103836  60.946888  117.209557   \n",
       "\n",
       "                     ...     QIA.DE     RWE.DE      SAP.DE     SHL.DE  \\\n",
       "Date                 ...                                                \n",
       "2020-12-28 00:00:00  ...  42.799999  33.356606  102.964241  41.024109   \n",
       "2020-12-29 00:00:00  ...  42.439999  33.289932  104.470657  40.873962   \n",
       "2020-12-30 00:00:00  ...  42.450001  32.927979  104.881500  40.665691   \n",
       "\n",
       "                         SIE.DE     SRT3.DE      SY1.DE     VNA.DE  \\\n",
       "Date                                                                 \n",
       "2020-12-28 00:00:00  113.016350  334.766144  106.728798  55.276020   \n",
       "2020-12-29 00:00:00  111.216423  342.329224  107.268822  55.631069   \n",
       "2020-12-30 00:00:00  111.330101  341.931152  106.434242  55.836628   \n",
       "\n",
       "                        VOW3.DE     ZAL.DE  \n",
       "Date                                        \n",
       "2020-12-28 00:00:00  141.501663  88.400002  \n",
       "2020-12-29 00:00:00  140.705048  91.400002  \n",
       "2020-12-30 00:00:00  141.186722  91.059998  \n",
       "\n",
       "[3 rows x 40 columns]"
      ]
     },
     "execution_count": 7,
     "metadata": {},
     "output_type": "execute_result"
    }
   ],
   "source": [
    "price_data.tail(3)"
   ]
  },
  {
   "cell_type": "code",
   "execution_count": 8,
   "id": "9acd9e81",
   "metadata": {},
   "outputs": [],
   "source": [
    "# Replacing all the dots with dashes in the tickers list\n",
    "\n",
    "ticker=[]\n",
    "\n",
    "for i in tickers:\n",
    "    ticker.append(i.replace(\".\",\"-\"))\n",
    "    \n",
    "    "
   ]
  },
  {
   "cell_type": "code",
   "execution_count": 9,
   "id": "62e7bf59",
   "metadata": {},
   "outputs": [
    {
     "data": {
      "text/plain": [
       "['ADS-DE',\n",
       " 'AIR-DE',\n",
       " 'ALV-DE',\n",
       " 'BAS-DE',\n",
       " 'BAYN-DE',\n",
       " 'BEI-DE',\n",
       " 'BMW-DE',\n",
       " 'BNR-DE',\n",
       " 'CON-DE',\n",
       " '1COV-DE',\n",
       " 'DTG-DE',\n",
       " 'DBK-DE',\n",
       " 'DB1-DE',\n",
       " 'DPW-DE',\n",
       " 'DTE-DE',\n",
       " 'EOAN-DE',\n",
       " 'FRE-DE',\n",
       " 'FME-DE',\n",
       " 'HNR1-DE',\n",
       " 'HEI-DE',\n",
       " 'HEN3-DE',\n",
       " 'IFX-DE',\n",
       " 'LIN-DE',\n",
       " 'MBG-DE',\n",
       " 'MRK-DE',\n",
       " 'MTX-DE',\n",
       " 'MUV2-DE',\n",
       " 'PAH3-DE',\n",
       " 'PUM-DE',\n",
       " 'QIA-DE',\n",
       " 'RWE-DE',\n",
       " 'SAP-DE',\n",
       " 'SRT3-DE',\n",
       " 'SIE-DE',\n",
       " 'ENR-DE',\n",
       " 'SHL-DE',\n",
       " 'SY1-DE',\n",
       " 'VOW3-DE',\n",
       " 'VNA-DE',\n",
       " 'ZAL-DE']"
      ]
     },
     "execution_count": 9,
     "metadata": {},
     "output_type": "execute_result"
    }
   ],
   "source": [
    "ticker"
   ]
  },
  {
   "cell_type": "code",
   "execution_count": 10,
   "id": "c24c011d",
   "metadata": {},
   "outputs": [],
   "source": [
    "price_data.columns=ticker"
   ]
  },
  {
   "cell_type": "code",
   "execution_count": 11,
   "id": "41128828",
   "metadata": {},
   "outputs": [
    {
     "data": {
      "text/html": [
       "<div>\n",
       "<style scoped>\n",
       "    .dataframe tbody tr th:only-of-type {\n",
       "        vertical-align: middle;\n",
       "    }\n",
       "\n",
       "    .dataframe tbody tr th {\n",
       "        vertical-align: top;\n",
       "    }\n",
       "\n",
       "    .dataframe thead th {\n",
       "        text-align: right;\n",
       "    }\n",
       "</style>\n",
       "<table border=\"1\" class=\"dataframe\">\n",
       "  <thead>\n",
       "    <tr style=\"text-align: right;\">\n",
       "      <th></th>\n",
       "      <th>ADS-DE</th>\n",
       "      <th>AIR-DE</th>\n",
       "      <th>ALV-DE</th>\n",
       "      <th>BAS-DE</th>\n",
       "      <th>BAYN-DE</th>\n",
       "      <th>BEI-DE</th>\n",
       "      <th>BMW-DE</th>\n",
       "      <th>BNR-DE</th>\n",
       "      <th>CON-DE</th>\n",
       "      <th>1COV-DE</th>\n",
       "      <th>...</th>\n",
       "      <th>RWE-DE</th>\n",
       "      <th>SAP-DE</th>\n",
       "      <th>SRT3-DE</th>\n",
       "      <th>SIE-DE</th>\n",
       "      <th>ENR-DE</th>\n",
       "      <th>SHL-DE</th>\n",
       "      <th>SY1-DE</th>\n",
       "      <th>VOW3-DE</th>\n",
       "      <th>VNA-DE</th>\n",
       "      <th>ZAL-DE</th>\n",
       "    </tr>\n",
       "    <tr>\n",
       "      <th>Date</th>\n",
       "      <th></th>\n",
       "      <th></th>\n",
       "      <th></th>\n",
       "      <th></th>\n",
       "      <th></th>\n",
       "      <th></th>\n",
       "      <th></th>\n",
       "      <th></th>\n",
       "      <th></th>\n",
       "      <th></th>\n",
       "      <th></th>\n",
       "      <th></th>\n",
       "      <th></th>\n",
       "      <th></th>\n",
       "      <th></th>\n",
       "      <th></th>\n",
       "      <th></th>\n",
       "      <th></th>\n",
       "      <th></th>\n",
       "      <th></th>\n",
       "      <th></th>\n",
       "    </tr>\n",
       "  </thead>\n",
       "  <tbody>\n",
       "    <tr>\n",
       "      <th>2011-01-03 00:00:00</th>\n",
       "      <td>NaN</td>\n",
       "      <td>39.943615</td>\n",
       "      <td>14.387970</td>\n",
       "      <td>51.121140</td>\n",
       "      <td>33.723194</td>\n",
       "      <td>36.919369</td>\n",
       "      <td>35.760616</td>\n",
       "      <td>37.248699</td>\n",
       "      <td>19.277523</td>\n",
       "      <td>44.274792</td>\n",
       "      <td>...</td>\n",
       "      <td>14.857137</td>\n",
       "      <td>30.197252</td>\n",
       "      <td>31.926203</td>\n",
       "      <td>NaN</td>\n",
       "      <td>60.978508</td>\n",
       "      <td>6.189799</td>\n",
       "      <td>16.560514</td>\n",
       "      <td>NaN</td>\n",
       "      <td>95.255554</td>\n",
       "      <td>NaN</td>\n",
       "    </tr>\n",
       "    <tr>\n",
       "      <th>2011-01-04 00:00:00</th>\n",
       "      <td>NaN</td>\n",
       "      <td>39.498798</td>\n",
       "      <td>14.481057</td>\n",
       "      <td>51.274979</td>\n",
       "      <td>32.818989</td>\n",
       "      <td>36.535843</td>\n",
       "      <td>36.163200</td>\n",
       "      <td>36.818317</td>\n",
       "      <td>19.479029</td>\n",
       "      <td>44.656471</td>\n",
       "      <td>...</td>\n",
       "      <td>14.852154</td>\n",
       "      <td>30.544764</td>\n",
       "      <td>31.905313</td>\n",
       "      <td>NaN</td>\n",
       "      <td>59.829823</td>\n",
       "      <td>6.255287</td>\n",
       "      <td>16.314020</td>\n",
       "      <td>NaN</td>\n",
       "      <td>96.338020</td>\n",
       "      <td>NaN</td>\n",
       "    </tr>\n",
       "    <tr>\n",
       "      <th>2011-01-05 00:00:00</th>\n",
       "      <td>NaN</td>\n",
       "      <td>38.723442</td>\n",
       "      <td>14.869595</td>\n",
       "      <td>51.155327</td>\n",
       "      <td>32.311077</td>\n",
       "      <td>36.461826</td>\n",
       "      <td>37.119873</td>\n",
       "      <td>36.387939</td>\n",
       "      <td>18.864178</td>\n",
       "      <td>43.349949</td>\n",
       "      <td>...</td>\n",
       "      <td>14.971729</td>\n",
       "      <td>30.838343</td>\n",
       "      <td>31.846838</td>\n",
       "      <td>NaN</td>\n",
       "      <td>58.901760</td>\n",
       "      <td>6.300451</td>\n",
       "      <td>16.190771</td>\n",
       "      <td>NaN</td>\n",
       "      <td>93.874519</td>\n",
       "      <td>NaN</td>\n",
       "    </tr>\n",
       "  </tbody>\n",
       "</table>\n",
       "<p>3 rows × 40 columns</p>\n",
       "</div>"
      ],
      "text/plain": [
       "                     ADS-DE     AIR-DE     ALV-DE     BAS-DE    BAYN-DE  \\\n",
       "Date                                                                      \n",
       "2011-01-03 00:00:00     NaN  39.943615  14.387970  51.121140  33.723194   \n",
       "2011-01-04 00:00:00     NaN  39.498798  14.481057  51.274979  32.818989   \n",
       "2011-01-05 00:00:00     NaN  38.723442  14.869595  51.155327  32.311077   \n",
       "\n",
       "                        BEI-DE     BMW-DE     BNR-DE     CON-DE    1COV-DE  \\\n",
       "Date                                                                         \n",
       "2011-01-03 00:00:00  36.919369  35.760616  37.248699  19.277523  44.274792   \n",
       "2011-01-04 00:00:00  36.535843  36.163200  36.818317  19.479029  44.656471   \n",
       "2011-01-05 00:00:00  36.461826  37.119873  36.387939  18.864178  43.349949   \n",
       "\n",
       "                     ...     RWE-DE     SAP-DE    SRT3-DE  SIE-DE     ENR-DE  \\\n",
       "Date                 ...                                                       \n",
       "2011-01-03 00:00:00  ...  14.857137  30.197252  31.926203     NaN  60.978508   \n",
       "2011-01-04 00:00:00  ...  14.852154  30.544764  31.905313     NaN  59.829823   \n",
       "2011-01-05 00:00:00  ...  14.971729  30.838343  31.846838     NaN  58.901760   \n",
       "\n",
       "                       SHL-DE     SY1-DE  VOW3-DE     VNA-DE  ZAL-DE  \n",
       "Date                                                                  \n",
       "2011-01-03 00:00:00  6.189799  16.560514      NaN  95.255554     NaN  \n",
       "2011-01-04 00:00:00  6.255287  16.314020      NaN  96.338020     NaN  \n",
       "2011-01-05 00:00:00  6.300451  16.190771      NaN  93.874519     NaN  \n",
       "\n",
       "[3 rows x 40 columns]"
      ]
     },
     "execution_count": 11,
     "metadata": {},
     "output_type": "execute_result"
    }
   ],
   "source": [
    "price_data.head(3)"
   ]
  },
  {
   "cell_type": "code",
   "execution_count": 12,
   "id": "6655576b",
   "metadata": {},
   "outputs": [],
   "source": [
    "price_data.index=pd.to_datetime(price_data.index)"
   ]
  },
  {
   "cell_type": "code",
   "execution_count": 13,
   "id": "54126e6c",
   "metadata": {},
   "outputs": [],
   "source": [
    "# Calculating the monthly returns\n",
    "\n",
    "mtl_rets=price_data.pct_change().resample(\"M\").agg(lambda x:(x+1).prod()-1)"
   ]
  },
  {
   "cell_type": "code",
   "execution_count": 14,
   "id": "fc3ead07",
   "metadata": {
    "scrolled": true
   },
   "outputs": [
    {
     "data": {
      "text/html": [
       "<div>\n",
       "<style scoped>\n",
       "    .dataframe tbody tr th:only-of-type {\n",
       "        vertical-align: middle;\n",
       "    }\n",
       "\n",
       "    .dataframe tbody tr th {\n",
       "        vertical-align: top;\n",
       "    }\n",
       "\n",
       "    .dataframe thead th {\n",
       "        text-align: right;\n",
       "    }\n",
       "</style>\n",
       "<table border=\"1\" class=\"dataframe\">\n",
       "  <thead>\n",
       "    <tr style=\"text-align: right;\">\n",
       "      <th></th>\n",
       "      <th>ADS-DE</th>\n",
       "      <th>AIR-DE</th>\n",
       "      <th>ALV-DE</th>\n",
       "      <th>BAS-DE</th>\n",
       "      <th>BAYN-DE</th>\n",
       "      <th>BEI-DE</th>\n",
       "      <th>BMW-DE</th>\n",
       "      <th>BNR-DE</th>\n",
       "      <th>CON-DE</th>\n",
       "      <th>1COV-DE</th>\n",
       "      <th>...</th>\n",
       "      <th>RWE-DE</th>\n",
       "      <th>SAP-DE</th>\n",
       "      <th>SRT3-DE</th>\n",
       "      <th>SIE-DE</th>\n",
       "      <th>ENR-DE</th>\n",
       "      <th>SHL-DE</th>\n",
       "      <th>SY1-DE</th>\n",
       "      <th>VOW3-DE</th>\n",
       "      <th>VNA-DE</th>\n",
       "      <th>ZAL-DE</th>\n",
       "    </tr>\n",
       "    <tr>\n",
       "      <th>Date</th>\n",
       "      <th></th>\n",
       "      <th></th>\n",
       "      <th></th>\n",
       "      <th></th>\n",
       "      <th></th>\n",
       "      <th></th>\n",
       "      <th></th>\n",
       "      <th></th>\n",
       "      <th></th>\n",
       "      <th></th>\n",
       "      <th></th>\n",
       "      <th></th>\n",
       "      <th></th>\n",
       "      <th></th>\n",
       "      <th></th>\n",
       "      <th></th>\n",
       "      <th></th>\n",
       "      <th></th>\n",
       "      <th></th>\n",
       "      <th></th>\n",
       "      <th></th>\n",
       "    </tr>\n",
       "  </thead>\n",
       "  <tbody>\n",
       "    <tr>\n",
       "      <th>2011-01-31</th>\n",
       "      <td>0.0</td>\n",
       "      <td>-0.070494</td>\n",
       "      <td>0.188186</td>\n",
       "      <td>0.130740</td>\n",
       "      <td>-0.070176</td>\n",
       "      <td>-0.018407</td>\n",
       "      <td>-0.031110</td>\n",
       "      <td>-0.087388</td>\n",
       "      <td>-0.072367</td>\n",
       "      <td>-0.046751</td>\n",
       "      <td>...</td>\n",
       "      <td>-0.097250</td>\n",
       "      <td>0.043849</td>\n",
       "      <td>0.104802</td>\n",
       "      <td>0.0</td>\n",
       "      <td>0.027058</td>\n",
       "      <td>-0.014958</td>\n",
       "      <td>0.025800</td>\n",
       "      <td>0.0</td>\n",
       "      <td>-0.075235</td>\n",
       "      <td>0.0</td>\n",
       "    </tr>\n",
       "    <tr>\n",
       "      <th>2011-02-28</th>\n",
       "      <td>0.0</td>\n",
       "      <td>0.022203</td>\n",
       "      <td>-0.013021</td>\n",
       "      <td>0.029078</td>\n",
       "      <td>0.072624</td>\n",
       "      <td>0.043075</td>\n",
       "      <td>0.086957</td>\n",
       "      <td>0.048145</td>\n",
       "      <td>0.094337</td>\n",
       "      <td>0.065217</td>\n",
       "      <td>...</td>\n",
       "      <td>0.115156</td>\n",
       "      <td>-0.070329</td>\n",
       "      <td>0.035528</td>\n",
       "      <td>0.0</td>\n",
       "      <td>0.042294</td>\n",
       "      <td>0.062408</td>\n",
       "      <td>-0.080290</td>\n",
       "      <td>0.0</td>\n",
       "      <td>0.041525</td>\n",
       "      <td>0.0</td>\n",
       "    </tr>\n",
       "    <tr>\n",
       "      <th>2011-03-31</th>\n",
       "      <td>0.0</td>\n",
       "      <td>-0.043978</td>\n",
       "      <td>-0.015591</td>\n",
       "      <td>-0.051437</td>\n",
       "      <td>0.012778</td>\n",
       "      <td>-0.027412</td>\n",
       "      <td>-0.010000</td>\n",
       "      <td>-0.000510</td>\n",
       "      <td>0.034455</td>\n",
       "      <td>0.039510</td>\n",
       "      <td>...</td>\n",
       "      <td>-0.060959</td>\n",
       "      <td>-0.081067</td>\n",
       "      <td>-0.011894</td>\n",
       "      <td>0.0</td>\n",
       "      <td>-0.009017</td>\n",
       "      <td>0.070246</td>\n",
       "      <td>0.088088</td>\n",
       "      <td>0.0</td>\n",
       "      <td>-0.068755</td>\n",
       "      <td>0.0</td>\n",
       "    </tr>\n",
       "  </tbody>\n",
       "</table>\n",
       "<p>3 rows × 40 columns</p>\n",
       "</div>"
      ],
      "text/plain": [
       "            ADS-DE    AIR-DE    ALV-DE    BAS-DE   BAYN-DE    BEI-DE  \\\n",
       "Date                                                                   \n",
       "2011-01-31     0.0 -0.070494  0.188186  0.130740 -0.070176 -0.018407   \n",
       "2011-02-28     0.0  0.022203 -0.013021  0.029078  0.072624  0.043075   \n",
       "2011-03-31     0.0 -0.043978 -0.015591 -0.051437  0.012778 -0.027412   \n",
       "\n",
       "              BMW-DE    BNR-DE    CON-DE   1COV-DE  ...    RWE-DE    SAP-DE  \\\n",
       "Date                                                ...                       \n",
       "2011-01-31 -0.031110 -0.087388 -0.072367 -0.046751  ... -0.097250  0.043849   \n",
       "2011-02-28  0.086957  0.048145  0.094337  0.065217  ...  0.115156 -0.070329   \n",
       "2011-03-31 -0.010000 -0.000510  0.034455  0.039510  ... -0.060959 -0.081067   \n",
       "\n",
       "             SRT3-DE  SIE-DE    ENR-DE    SHL-DE    SY1-DE  VOW3-DE    VNA-DE  \\\n",
       "Date                                                                            \n",
       "2011-01-31  0.104802     0.0  0.027058 -0.014958  0.025800      0.0 -0.075235   \n",
       "2011-02-28  0.035528     0.0  0.042294  0.062408 -0.080290      0.0  0.041525   \n",
       "2011-03-31 -0.011894     0.0 -0.009017  0.070246  0.088088      0.0 -0.068755   \n",
       "\n",
       "            ZAL-DE  \n",
       "Date                \n",
       "2011-01-31     0.0  \n",
       "2011-02-28     0.0  \n",
       "2011-03-31     0.0  \n",
       "\n",
       "[3 rows x 40 columns]"
      ]
     },
     "execution_count": 14,
     "metadata": {},
     "output_type": "execute_result"
    }
   ],
   "source": [
    "mtl_rets.head(3)"
   ]
  },
  {
   "cell_type": "code",
   "execution_count": null,
   "id": "c4a0280f",
   "metadata": {},
   "outputs": [],
   "source": []
  },
  {
   "cell_type": "code",
   "execution_count": 15,
   "id": "bc74b1ac",
   "metadata": {},
   "outputs": [
    {
     "data": {
      "text/plain": [
       "datetime.datetime(2011, 2, 1, 0, 0)"
      ]
     },
     "execution_count": 15,
     "metadata": {},
     "output_type": "execute_result"
    }
   ],
   "source": [
    "# Defining a formation date:\n",
    "\n",
    "# formation date = date on which we gonna buy the losers of last month\n",
    "\n",
    "formation_date= dt.datetime(2011,2,1)\n",
    "formation_date"
   ]
  },
  {
   "cell_type": "code",
   "execution_count": 16,
   "id": "95ca5dcb",
   "metadata": {},
   "outputs": [
    {
     "data": {
      "text/plain": [
       "Timestamp('2011-01-31 00:00:00')"
      ]
     },
     "execution_count": 16,
     "metadata": {},
     "output_type": "execute_result"
    }
   ],
   "source": [
    "# defining end date\n",
    "\n",
    "# The date at which the prior monthly returns are calculated\n",
    "\n",
    "end_date= formation_date - MonthEnd(1)\n",
    "end_date"
   ]
  },
  {
   "cell_type": "code",
   "execution_count": 17,
   "id": "f328ec59",
   "metadata": {},
   "outputs": [],
   "source": [
    "end_date_rets= mtl_rets.loc[end_date]"
   ]
  },
  {
   "cell_type": "code",
   "execution_count": 18,
   "id": "0932dc38",
   "metadata": {},
   "outputs": [],
   "source": [
    "end_date_rets=end_date_rets.reset_index()"
   ]
  },
  {
   "cell_type": "code",
   "execution_count": 19,
   "id": "7d460bee",
   "metadata": {},
   "outputs": [
    {
     "data": {
      "text/html": [
       "<div>\n",
       "<style scoped>\n",
       "    .dataframe tbody tr th:only-of-type {\n",
       "        vertical-align: middle;\n",
       "    }\n",
       "\n",
       "    .dataframe tbody tr th {\n",
       "        vertical-align: top;\n",
       "    }\n",
       "\n",
       "    .dataframe thead th {\n",
       "        text-align: right;\n",
       "    }\n",
       "</style>\n",
       "<table border=\"1\" class=\"dataframe\">\n",
       "  <thead>\n",
       "    <tr style=\"text-align: right;\">\n",
       "      <th></th>\n",
       "      <th>index</th>\n",
       "      <th>2011-01-31 00:00:00</th>\n",
       "    </tr>\n",
       "  </thead>\n",
       "  <tbody>\n",
       "    <tr>\n",
       "      <th>0</th>\n",
       "      <td>ADS-DE</td>\n",
       "      <td>0.000000</td>\n",
       "    </tr>\n",
       "    <tr>\n",
       "      <th>1</th>\n",
       "      <td>AIR-DE</td>\n",
       "      <td>-0.070494</td>\n",
       "    </tr>\n",
       "    <tr>\n",
       "      <th>2</th>\n",
       "      <td>ALV-DE</td>\n",
       "      <td>0.188186</td>\n",
       "    </tr>\n",
       "  </tbody>\n",
       "</table>\n",
       "</div>"
      ],
      "text/plain": [
       "    index  2011-01-31 00:00:00\n",
       "0  ADS-DE             0.000000\n",
       "1  AIR-DE            -0.070494\n",
       "2  ALV-DE             0.188186"
      ]
     },
     "execution_count": 19,
     "metadata": {},
     "output_type": "execute_result"
    }
   ],
   "source": [
    "end_date_rets.head(3)"
   ]
  },
  {
   "cell_type": "code",
   "execution_count": 20,
   "id": "70b37bd1",
   "metadata": {},
   "outputs": [
    {
     "data": {
      "text/html": [
       "<div>\n",
       "<style scoped>\n",
       "    .dataframe tbody tr th:only-of-type {\n",
       "        vertical-align: middle;\n",
       "    }\n",
       "\n",
       "    .dataframe tbody tr th {\n",
       "        vertical-align: top;\n",
       "    }\n",
       "\n",
       "    .dataframe thead th {\n",
       "        text-align: right;\n",
       "    }\n",
       "</style>\n",
       "<table border=\"1\" class=\"dataframe\">\n",
       "  <thead>\n",
       "    <tr style=\"text-align: right;\">\n",
       "      <th></th>\n",
       "      <th>index</th>\n",
       "      <th>2011-01-31 00:00:00</th>\n",
       "      <th>tercile</th>\n",
       "    </tr>\n",
       "  </thead>\n",
       "  <tbody>\n",
       "    <tr>\n",
       "      <th>0</th>\n",
       "      <td>ADS-DE</td>\n",
       "      <td>0.000000</td>\n",
       "      <td>1</td>\n",
       "    </tr>\n",
       "    <tr>\n",
       "      <th>1</th>\n",
       "      <td>AIR-DE</td>\n",
       "      <td>-0.070494</td>\n",
       "      <td>0</td>\n",
       "    </tr>\n",
       "    <tr>\n",
       "      <th>2</th>\n",
       "      <td>ALV-DE</td>\n",
       "      <td>0.188186</td>\n",
       "      <td>2</td>\n",
       "    </tr>\n",
       "  </tbody>\n",
       "</table>\n",
       "</div>"
      ],
      "text/plain": [
       "    index  2011-01-31 00:00:00  tercile\n",
       "0  ADS-DE             0.000000        1\n",
       "1  AIR-DE            -0.070494        0\n",
       "2  ALV-DE             0.188186        2"
      ]
     },
     "execution_count": 20,
     "metadata": {},
     "output_type": "execute_result"
    }
   ],
   "source": [
    "# Dividing the above returns into terciles \n",
    "\n",
    "end_date_rets[\"tercile\"]=pd.qcut(end_date_rets.iloc[:,1], 3, labels=False, duplicates=\"drop\")\n",
    "end_date_rets.head(3)"
   ]
  },
  {
   "cell_type": "code",
   "execution_count": 21,
   "id": "e2ea692b",
   "metadata": {},
   "outputs": [],
   "source": [
    "# Assigning tercile 2 to winners and 0 to losers \n",
    "\n",
    "winners= end_date_rets[end_date_rets.tercile==2]\n",
    "losers= end_date_rets[end_date_rets.tercile==0]\n"
   ]
  },
  {
   "cell_type": "code",
   "execution_count": 22,
   "id": "2f1498be",
   "metadata": {},
   "outputs": [
    {
     "data": {
      "text/html": [
       "<div>\n",
       "<style scoped>\n",
       "    .dataframe tbody tr th:only-of-type {\n",
       "        vertical-align: middle;\n",
       "    }\n",
       "\n",
       "    .dataframe tbody tr th {\n",
       "        vertical-align: top;\n",
       "    }\n",
       "\n",
       "    .dataframe thead th {\n",
       "        text-align: right;\n",
       "    }\n",
       "</style>\n",
       "<table border=\"1\" class=\"dataframe\">\n",
       "  <thead>\n",
       "    <tr style=\"text-align: right;\">\n",
       "      <th></th>\n",
       "      <th>index</th>\n",
       "      <th>2011-01-31 00:00:00</th>\n",
       "      <th>tercile</th>\n",
       "    </tr>\n",
       "  </thead>\n",
       "  <tbody>\n",
       "    <tr>\n",
       "      <th>1</th>\n",
       "      <td>AIR-DE</td>\n",
       "      <td>-0.070494</td>\n",
       "      <td>0</td>\n",
       "    </tr>\n",
       "    <tr>\n",
       "      <th>4</th>\n",
       "      <td>BAYN-DE</td>\n",
       "      <td>-0.070176</td>\n",
       "      <td>0</td>\n",
       "    </tr>\n",
       "    <tr>\n",
       "      <th>5</th>\n",
       "      <td>BEI-DE</td>\n",
       "      <td>-0.018407</td>\n",
       "      <td>0</td>\n",
       "    </tr>\n",
       "    <tr>\n",
       "      <th>6</th>\n",
       "      <td>BMW-DE</td>\n",
       "      <td>-0.031110</td>\n",
       "      <td>0</td>\n",
       "    </tr>\n",
       "    <tr>\n",
       "      <th>7</th>\n",
       "      <td>BNR-DE</td>\n",
       "      <td>-0.087388</td>\n",
       "      <td>0</td>\n",
       "    </tr>\n",
       "    <tr>\n",
       "      <th>8</th>\n",
       "      <td>CON-DE</td>\n",
       "      <td>-0.072367</td>\n",
       "      <td>0</td>\n",
       "    </tr>\n",
       "    <tr>\n",
       "      <th>9</th>\n",
       "      <td>1COV-DE</td>\n",
       "      <td>-0.046751</td>\n",
       "      <td>0</td>\n",
       "    </tr>\n",
       "    <tr>\n",
       "      <th>17</th>\n",
       "      <td>FME-DE</td>\n",
       "      <td>-0.006971</td>\n",
       "      <td>0</td>\n",
       "    </tr>\n",
       "    <tr>\n",
       "      <th>20</th>\n",
       "      <td>HEN3-DE</td>\n",
       "      <td>-0.033525</td>\n",
       "      <td>0</td>\n",
       "    </tr>\n",
       "    <tr>\n",
       "      <th>28</th>\n",
       "      <td>PUM-DE</td>\n",
       "      <td>-0.009491</td>\n",
       "      <td>0</td>\n",
       "    </tr>\n",
       "    <tr>\n",
       "      <th>29</th>\n",
       "      <td>QIA-DE</td>\n",
       "      <td>-0.073616</td>\n",
       "      <td>0</td>\n",
       "    </tr>\n",
       "    <tr>\n",
       "      <th>30</th>\n",
       "      <td>RWE-DE</td>\n",
       "      <td>-0.097250</td>\n",
       "      <td>0</td>\n",
       "    </tr>\n",
       "    <tr>\n",
       "      <th>35</th>\n",
       "      <td>SHL-DE</td>\n",
       "      <td>-0.014958</td>\n",
       "      <td>0</td>\n",
       "    </tr>\n",
       "    <tr>\n",
       "      <th>38</th>\n",
       "      <td>VNA-DE</td>\n",
       "      <td>-0.075235</td>\n",
       "      <td>0</td>\n",
       "    </tr>\n",
       "  </tbody>\n",
       "</table>\n",
       "</div>"
      ],
      "text/plain": [
       "      index  2011-01-31 00:00:00  tercile\n",
       "1    AIR-DE            -0.070494        0\n",
       "4   BAYN-DE            -0.070176        0\n",
       "5    BEI-DE            -0.018407        0\n",
       "6    BMW-DE            -0.031110        0\n",
       "7    BNR-DE            -0.087388        0\n",
       "8    CON-DE            -0.072367        0\n",
       "9   1COV-DE            -0.046751        0\n",
       "17   FME-DE            -0.006971        0\n",
       "20  HEN3-DE            -0.033525        0\n",
       "28   PUM-DE            -0.009491        0\n",
       "29   QIA-DE            -0.073616        0\n",
       "30   RWE-DE            -0.097250        0\n",
       "35   SHL-DE            -0.014958        0\n",
       "38   VNA-DE            -0.075235        0"
      ]
     },
     "execution_count": 22,
     "metadata": {},
     "output_type": "execute_result"
    }
   ],
   "source": [
    "losers"
   ]
  },
  {
   "cell_type": "code",
   "execution_count": 23,
   "id": "95967309",
   "metadata": {},
   "outputs": [],
   "source": [
    "# By observing the above the loser tercile, we are gonna go long the stocks with the worst performance in the previous month\n",
    "\n",
    "los_rets=mtl_rets.loc[formation_date + MonthEnd(1),mtl_rets.columns.isin(losers[\"index\"])]"
   ]
  },
  {
   "cell_type": "code",
   "execution_count": 24,
   "id": "616e286c",
   "metadata": {},
   "outputs": [
    {
     "data": {
      "text/plain": [
       "AIR-DE     0.022203\n",
       "BAYN-DE    0.072624\n",
       "BEI-DE     0.043075\n",
       "BMW-DE     0.086957\n",
       "BNR-DE     0.048145\n",
       "CON-DE     0.094337\n",
       "1COV-DE    0.065217\n",
       "FME-DE     0.122616\n",
       "HEN3-DE   -0.019757\n",
       "PUM-DE    -0.153597\n",
       "QIA-DE    -0.056480\n",
       "RWE-DE     0.115156\n",
       "SHL-DE     0.062408\n",
       "VNA-DE     0.041525\n",
       "Name: 2011-02-28 00:00:00, dtype: float64"
      ]
     },
     "execution_count": 24,
     "metadata": {},
     "output_type": "execute_result"
    }
   ],
   "source": [
    "los_rets"
   ]
  },
  {
   "cell_type": "code",
   "execution_count": 25,
   "id": "a9a88d20",
   "metadata": {},
   "outputs": [
    {
     "data": {
      "text/plain": [
       "0.03888775332975698"
      ]
     },
     "execution_count": 25,
     "metadata": {},
     "output_type": "execute_result"
    }
   ],
   "source": [
    "los_rets.mean()"
   ]
  },
  {
   "cell_type": "markdown",
   "id": "18d55fe7",
   "metadata": {},
   "source": [
    "### Now, lets turn all of the above into a function"
   ]
  },
  {
   "cell_type": "code",
   "execution_count": 26,
   "id": "488d0499",
   "metadata": {},
   "outputs": [],
   "source": [
    "def short_reversal(formation_date):\n",
    "    end_date= formation_date- MonthEnd(1)\n",
    "    end_date_rets= mtl_rets.loc[end_date]\n",
    "    end_date_rets=end_date_rets.reset_index()\n",
    "    end_date_rets[\"tercile\"]=pd.qcut(end_date_rets.iloc[:,1], 3, labels=False, duplicates=\"drop\")\n",
    "    losers=end_date_rets[end_date_rets.tercile == 0]\n",
    "    los_rets=mtl_rets.loc[formation_date + MonthEnd(1), mtl_rets.columns.isin(losers[\"index\"])]\n",
    "    strategy_profit=los_rets.mean()\n",
    "    \n",
    "    return strategy_profit"
   ]
  },
  {
   "cell_type": "code",
   "execution_count": 27,
   "id": "88772b53",
   "metadata": {},
   "outputs": [
    {
     "data": {
      "text/plain": [
       "0.03888775332975698"
      ]
     },
     "execution_count": 27,
     "metadata": {},
     "output_type": "execute_result"
    }
   ],
   "source": [
    "# Testing the above function\n",
    "\n",
    "short_reversal(formation_date)"
   ]
  },
  {
   "cell_type": "code",
   "execution_count": null,
   "id": "c96a63a4",
   "metadata": {},
   "outputs": [],
   "source": []
  },
  {
   "cell_type": "markdown",
   "id": "b889ab2d",
   "metadata": {},
   "source": [
    "#### Lets write a for loop so that we can interate the above function on all the other months"
   ]
  },
  {
   "cell_type": "code",
   "execution_count": 129,
   "id": "5465bcc3",
   "metadata": {},
   "outputs": [
    {
     "data": {
      "text/plain": [
       "(120, 40)"
      ]
     },
     "execution_count": 129,
     "metadata": {},
     "output_type": "execute_result"
    }
   ],
   "source": [
    "mtl_rets.shape"
   ]
  },
  {
   "cell_type": "code",
   "execution_count": 130,
   "id": "16e3843c",
   "metadata": {},
   "outputs": [
    {
     "data": {
      "text/plain": [
       "datetime.datetime(2011, 2, 1, 0, 0)"
      ]
     },
     "execution_count": 130,
     "metadata": {},
     "output_type": "execute_result"
    }
   ],
   "source": [
    "formation_date"
   ]
  },
  {
   "cell_type": "code",
   "execution_count": 131,
   "id": "3bff8baf",
   "metadata": {},
   "outputs": [],
   "source": [
    "# first, creating two empty list\n",
    "\n",
    "profits=[] \n",
    "dates=[]\n",
    "\n",
    "for i in range(119):\n",
    "    profits.append(short_reversal(formation_date + MonthEnd(i)))\n",
    "    dates.append(formation_date + MonthEnd(i))\n",
    "    \n",
    "    "
   ]
  },
  {
   "cell_type": "code",
   "execution_count": 132,
   "id": "58e702ec",
   "metadata": {},
   "outputs": [],
   "source": [
    "# converting the lists into dfs and concatenating \n",
    "\n",
    "reversal_profits=pd.DataFrame(profits)\n",
    "reversal_dates=pd.DataFrame(dates)\n",
    "\n",
    "comb_df= pd.concat([reversal_dates, reversal_profits], axis=1)\n",
    "\n",
    "# changing the column names\n",
    "\n",
    "comb_df.columns=[\"Date\",\"Returns\"]"
   ]
  },
  {
   "cell_type": "code",
   "execution_count": 133,
   "id": "ed84c536",
   "metadata": {},
   "outputs": [
    {
     "data": {
      "text/html": [
       "<div>\n",
       "<style scoped>\n",
       "    .dataframe tbody tr th:only-of-type {\n",
       "        vertical-align: middle;\n",
       "    }\n",
       "\n",
       "    .dataframe tbody tr th {\n",
       "        vertical-align: top;\n",
       "    }\n",
       "\n",
       "    .dataframe thead th {\n",
       "        text-align: right;\n",
       "    }\n",
       "</style>\n",
       "<table border=\"1\" class=\"dataframe\">\n",
       "  <thead>\n",
       "    <tr style=\"text-align: right;\">\n",
       "      <th></th>\n",
       "      <th>Date</th>\n",
       "      <th>Returns</th>\n",
       "    </tr>\n",
       "  </thead>\n",
       "  <tbody>\n",
       "    <tr>\n",
       "      <th>0</th>\n",
       "      <td>2011-02-28</td>\n",
       "      <td>-0.011706</td>\n",
       "    </tr>\n",
       "    <tr>\n",
       "      <th>1</th>\n",
       "      <td>2011-02-28</td>\n",
       "      <td>-0.011706</td>\n",
       "    </tr>\n",
       "    <tr>\n",
       "      <th>2</th>\n",
       "      <td>2011-03-31</td>\n",
       "      <td>0.039353</td>\n",
       "    </tr>\n",
       "    <tr>\n",
       "      <th>3</th>\n",
       "      <td>2011-04-30</td>\n",
       "      <td>-0.023413</td>\n",
       "    </tr>\n",
       "    <tr>\n",
       "      <th>4</th>\n",
       "      <td>2011-05-31</td>\n",
       "      <td>-0.008381</td>\n",
       "    </tr>\n",
       "    <tr>\n",
       "      <th>...</th>\n",
       "      <td>...</td>\n",
       "      <td>...</td>\n",
       "    </tr>\n",
       "    <tr>\n",
       "      <th>114</th>\n",
       "      <td>2020-07-31</td>\n",
       "      <td>0.046208</td>\n",
       "    </tr>\n",
       "    <tr>\n",
       "      <th>115</th>\n",
       "      <td>2020-08-31</td>\n",
       "      <td>-0.032267</td>\n",
       "    </tr>\n",
       "    <tr>\n",
       "      <th>116</th>\n",
       "      <td>2020-09-30</td>\n",
       "      <td>-0.090817</td>\n",
       "    </tr>\n",
       "    <tr>\n",
       "      <th>117</th>\n",
       "      <td>2020-10-31</td>\n",
       "      <td>0.175972</td>\n",
       "    </tr>\n",
       "    <tr>\n",
       "      <th>118</th>\n",
       "      <td>2020-11-30</td>\n",
       "      <td>0.037925</td>\n",
       "    </tr>\n",
       "  </tbody>\n",
       "</table>\n",
       "<p>119 rows × 2 columns</p>\n",
       "</div>"
      ],
      "text/plain": [
       "          Date   Returns\n",
       "0   2011-02-28 -0.011706\n",
       "1   2011-02-28 -0.011706\n",
       "2   2011-03-31  0.039353\n",
       "3   2011-04-30 -0.023413\n",
       "4   2011-05-31 -0.008381\n",
       "..         ...       ...\n",
       "114 2020-07-31  0.046208\n",
       "115 2020-08-31 -0.032267\n",
       "116 2020-09-30 -0.090817\n",
       "117 2020-10-31  0.175972\n",
       "118 2020-11-30  0.037925\n",
       "\n",
       "[119 rows x 2 columns]"
      ]
     },
     "execution_count": 133,
     "metadata": {},
     "output_type": "execute_result"
    }
   ],
   "source": [
    "comb_df"
   ]
  },
  {
   "cell_type": "code",
   "execution_count": 134,
   "id": "a7c5df47",
   "metadata": {},
   "outputs": [
    {
     "data": {
      "text/plain": [
       "0      False\n",
       "1       True\n",
       "2      False\n",
       "3      False\n",
       "4      False\n",
       "       ...  \n",
       "114    False\n",
       "115    False\n",
       "116    False\n",
       "117    False\n",
       "118    False\n",
       "Length: 119, dtype: bool"
      ]
     },
     "execution_count": 134,
     "metadata": {},
     "output_type": "execute_result"
    }
   ],
   "source": [
    "# checking if there are any duplicate rows\n",
    "\n",
    "comb_df.duplicated()"
   ]
  },
  {
   "cell_type": "code",
   "execution_count": 135,
   "id": "299471f0",
   "metadata": {},
   "outputs": [],
   "source": [
    "# removing the duplicate row while keeping the 1 original in the df\n",
    "\n",
    "comb_df=comb_df.drop_duplicates(subset=None, keep=\"first\",inplace=False)"
   ]
  },
  {
   "cell_type": "code",
   "execution_count": 136,
   "id": "ce8aedfa",
   "metadata": {},
   "outputs": [
    {
     "data": {
      "text/plain": [
       "(118, 2)"
      ]
     },
     "execution_count": 136,
     "metadata": {},
     "output_type": "execute_result"
    }
   ],
   "source": [
    "comb_df.shape"
   ]
  },
  {
   "cell_type": "code",
   "execution_count": null,
   "id": "6ad32588",
   "metadata": {},
   "outputs": [],
   "source": []
  },
  {
   "cell_type": "markdown",
   "id": "7d46f803",
   "metadata": {},
   "source": [
    "\n",
    "#### Comparing the above derived reversal profits to the DAX index's returns"
   ]
  },
  {
   "cell_type": "code",
   "execution_count": 137,
   "id": "64874321",
   "metadata": {},
   "outputs": [
    {
     "name": "stdout",
     "output_type": "stream",
     "text": [
      "[*********************100%***********************]  1 of 1 completed\n"
     ]
    },
    {
     "data": {
      "text/html": [
       "<div>\n",
       "<style scoped>\n",
       "    .dataframe tbody tr th:only-of-type {\n",
       "        vertical-align: middle;\n",
       "    }\n",
       "\n",
       "    .dataframe tbody tr th {\n",
       "        vertical-align: top;\n",
       "    }\n",
       "\n",
       "    .dataframe thead th {\n",
       "        text-align: right;\n",
       "    }\n",
       "</style>\n",
       "<table border=\"1\" class=\"dataframe\">\n",
       "  <thead>\n",
       "    <tr style=\"text-align: right;\">\n",
       "      <th></th>\n",
       "      <th>Open</th>\n",
       "      <th>High</th>\n",
       "      <th>Low</th>\n",
       "      <th>Close</th>\n",
       "      <th>Adj Close</th>\n",
       "      <th>Volume</th>\n",
       "    </tr>\n",
       "    <tr>\n",
       "      <th>Date</th>\n",
       "      <th></th>\n",
       "      <th></th>\n",
       "      <th></th>\n",
       "      <th></th>\n",
       "      <th></th>\n",
       "      <th></th>\n",
       "    </tr>\n",
       "  </thead>\n",
       "  <tbody>\n",
       "    <tr>\n",
       "      <th>2011-02-28</th>\n",
       "      <td>7173.589844</td>\n",
       "      <td>7305.490234</td>\n",
       "      <td>7148.939941</td>\n",
       "      <td>7272.319824</td>\n",
       "      <td>7272.319824</td>\n",
       "      <td>101476200</td>\n",
       "    </tr>\n",
       "    <tr>\n",
       "      <th>2011-03-01</th>\n",
       "      <td>7309.799805</td>\n",
       "      <td>7356.330078</td>\n",
       "      <td>7193.779785</td>\n",
       "      <td>7223.299805</td>\n",
       "      <td>7223.299805</td>\n",
       "      <td>112179300</td>\n",
       "    </tr>\n",
       "    <tr>\n",
       "      <th>2011-03-02</th>\n",
       "      <td>7169.040039</td>\n",
       "      <td>7202.580078</td>\n",
       "      <td>7122.689941</td>\n",
       "      <td>7181.120117</td>\n",
       "      <td>7181.120117</td>\n",
       "      <td>111139900</td>\n",
       "    </tr>\n",
       "    <tr>\n",
       "      <th>2011-03-03</th>\n",
       "      <td>7225.229980</td>\n",
       "      <td>7294.040039</td>\n",
       "      <td>7191.140137</td>\n",
       "      <td>7225.959961</td>\n",
       "      <td>7225.959961</td>\n",
       "      <td>95318500</td>\n",
       "    </tr>\n",
       "    <tr>\n",
       "      <th>2011-03-04</th>\n",
       "      <td>7262.540039</td>\n",
       "      <td>7311.250000</td>\n",
       "      <td>7157.120117</td>\n",
       "      <td>7178.899902</td>\n",
       "      <td>7178.899902</td>\n",
       "      <td>97463100</td>\n",
       "    </tr>\n",
       "    <tr>\n",
       "      <th>...</th>\n",
       "      <td>...</td>\n",
       "      <td>...</td>\n",
       "      <td>...</td>\n",
       "      <td>...</td>\n",
       "      <td>...</td>\n",
       "      <td>...</td>\n",
       "    </tr>\n",
       "    <tr>\n",
       "      <th>2020-11-23</th>\n",
       "      <td>13215.440430</td>\n",
       "      <td>13312.419922</td>\n",
       "      <td>13126.969727</td>\n",
       "      <td>13126.969727</td>\n",
       "      <td>13126.969727</td>\n",
       "      <td>68582800</td>\n",
       "    </tr>\n",
       "    <tr>\n",
       "      <th>2020-11-24</th>\n",
       "      <td>13254.419922</td>\n",
       "      <td>13296.759766</td>\n",
       "      <td>13192.320312</td>\n",
       "      <td>13292.440430</td>\n",
       "      <td>13292.440430</td>\n",
       "      <td>82733000</td>\n",
       "    </tr>\n",
       "    <tr>\n",
       "      <th>2020-11-25</th>\n",
       "      <td>13346.769531</td>\n",
       "      <td>13346.959961</td>\n",
       "      <td>13235.820312</td>\n",
       "      <td>13289.799805</td>\n",
       "      <td>13289.799805</td>\n",
       "      <td>76832800</td>\n",
       "    </tr>\n",
       "    <tr>\n",
       "      <th>2020-11-26</th>\n",
       "      <td>13315.209961</td>\n",
       "      <td>13316.190430</td>\n",
       "      <td>13274.889648</td>\n",
       "      <td>13286.570312</td>\n",
       "      <td>13286.570312</td>\n",
       "      <td>42951900</td>\n",
       "    </tr>\n",
       "    <tr>\n",
       "      <th>2020-11-27</th>\n",
       "      <td>13280.509766</td>\n",
       "      <td>13364.169922</td>\n",
       "      <td>13272.740234</td>\n",
       "      <td>13335.679688</td>\n",
       "      <td>13335.679688</td>\n",
       "      <td>63823200</td>\n",
       "    </tr>\n",
       "  </tbody>\n",
       "</table>\n",
       "<p>2468 rows × 6 columns</p>\n",
       "</div>"
      ],
      "text/plain": [
       "                    Open          High           Low         Close  \\\n",
       "Date                                                                 \n",
       "2011-02-28   7173.589844   7305.490234   7148.939941   7272.319824   \n",
       "2011-03-01   7309.799805   7356.330078   7193.779785   7223.299805   \n",
       "2011-03-02   7169.040039   7202.580078   7122.689941   7181.120117   \n",
       "2011-03-03   7225.229980   7294.040039   7191.140137   7225.959961   \n",
       "2011-03-04   7262.540039   7311.250000   7157.120117   7178.899902   \n",
       "...                  ...           ...           ...           ...   \n",
       "2020-11-23  13215.440430  13312.419922  13126.969727  13126.969727   \n",
       "2020-11-24  13254.419922  13296.759766  13192.320312  13292.440430   \n",
       "2020-11-25  13346.769531  13346.959961  13235.820312  13289.799805   \n",
       "2020-11-26  13315.209961  13316.190430  13274.889648  13286.570312   \n",
       "2020-11-27  13280.509766  13364.169922  13272.740234  13335.679688   \n",
       "\n",
       "               Adj Close     Volume  \n",
       "Date                                 \n",
       "2011-02-28   7272.319824  101476200  \n",
       "2011-03-01   7223.299805  112179300  \n",
       "2011-03-02   7181.120117  111139900  \n",
       "2011-03-03   7225.959961   95318500  \n",
       "2011-03-04   7178.899902   97463100  \n",
       "...                  ...        ...  \n",
       "2020-11-23  13126.969727   68582800  \n",
       "2020-11-24  13292.440430   82733000  \n",
       "2020-11-25  13289.799805   76832800  \n",
       "2020-11-26  13286.570312   42951900  \n",
       "2020-11-27  13335.679688   63823200  \n",
       "\n",
       "[2468 rows x 6 columns]"
      ]
     },
     "execution_count": 137,
     "metadata": {},
     "output_type": "execute_result"
    }
   ],
   "source": [
    "dax_40=yf.download(\"^GDAXI\", start=dates[0], end=dates[-1])\n",
    "dax_40"
   ]
  },
  {
   "cell_type": "code",
   "execution_count": 138,
   "id": "ec1d46e1",
   "metadata": {},
   "outputs": [
    {
     "data": {
      "text/plain": [
       "Date\n",
       "2011-02-28    7272.319824\n",
       "2011-03-01    7223.299805\n",
       "2011-03-02    7181.120117\n",
       "Name: Adj Close, dtype: float64"
      ]
     },
     "execution_count": 138,
     "metadata": {},
     "output_type": "execute_result"
    }
   ],
   "source": [
    "dax=dax_40[\"Adj Close\"]\n",
    "dax.head(3)"
   ]
  },
  {
   "cell_type": "code",
   "execution_count": 139,
   "id": "bc1483d3",
   "metadata": {},
   "outputs": [],
   "source": [
    "# Calculating monthly returns of the time series from  the daily returns \n",
    "\n",
    "dax_mtl=dax.pct_change().resample(\"M\").agg(lambda x:(x+1).prod()-1)"
   ]
  },
  {
   "cell_type": "code",
   "execution_count": 140,
   "id": "4b40fbbe",
   "metadata": {},
   "outputs": [
    {
     "data": {
      "text/plain": [
       "Date\n",
       "2011-02-28    0.000000\n",
       "2011-03-31   -0.031766\n",
       "2011-04-30    0.067196\n",
       "Freq: M, Name: Adj Close, dtype: float64"
      ]
     },
     "execution_count": 140,
     "metadata": {},
     "output_type": "execute_result"
    }
   ],
   "source": [
    "dax_mtl.head(3)"
   ]
  },
  {
   "cell_type": "code",
   "execution_count": 141,
   "id": "cca98db1",
   "metadata": {},
   "outputs": [
    {
     "data": {
      "text/plain": [
       "(118,)"
      ]
     },
     "execution_count": 141,
     "metadata": {},
     "output_type": "execute_result"
    }
   ],
   "source": [
    "dax_mtl.shape"
   ]
  },
  {
   "cell_type": "markdown",
   "id": "0764df78",
   "metadata": {},
   "source": [
    "#### Combining dax returns and mom profits into a same df"
   ]
  },
  {
   "cell_type": "code",
   "execution_count": 142,
   "id": "d681ea75",
   "metadata": {},
   "outputs": [
    {
     "name": "stderr",
     "output_type": "stream",
     "text": [
      "C:\\Users\\user\\AppData\\Local\\Temp\\ipykernel_9556\\3786820367.py:1: SettingWithCopyWarning: \n",
      "A value is trying to be set on a copy of a slice from a DataFrame.\n",
      "Try using .loc[row_indexer,col_indexer] = value instead\n",
      "\n",
      "See the caveats in the documentation: https://pandas.pydata.org/pandas-docs/stable/user_guide/indexing.html#returning-a-view-versus-a-copy\n",
      "  comb_df[\"Dax40\"]=dax_mtl.values\n"
     ]
    }
   ],
   "source": [
    "comb_df[\"Dax40\"]=dax_mtl.values"
   ]
  },
  {
   "cell_type": "code",
   "execution_count": 143,
   "id": "869cf6b7",
   "metadata": {},
   "outputs": [
    {
     "name": "stderr",
     "output_type": "stream",
     "text": [
      "C:\\Users\\user\\AppData\\Local\\Temp\\ipykernel_9556\\727754507.py:1: SettingWithCopyWarning: \n",
      "A value is trying to be set on a copy of a slice from a DataFrame.\n",
      "Try using .loc[row_indexer,col_indexer] = value instead\n",
      "\n",
      "See the caveats in the documentation: https://pandas.pydata.org/pandas-docs/stable/user_guide/indexing.html#returning-a-view-versus-a-copy\n",
      "  comb_df[\"Excess_Returns\"]= comb_df[\"Returns\"] - comb_df[\"Dax40\"]\n"
     ]
    }
   ],
   "source": [
    "comb_df[\"Excess_Returns\"]= comb_df[\"Returns\"] - comb_df[\"Dax40\"]"
   ]
  },
  {
   "cell_type": "code",
   "execution_count": 144,
   "id": "62260efe",
   "metadata": {},
   "outputs": [
    {
     "data": {
      "text/html": [
       "<div>\n",
       "<style scoped>\n",
       "    .dataframe tbody tr th:only-of-type {\n",
       "        vertical-align: middle;\n",
       "    }\n",
       "\n",
       "    .dataframe tbody tr th {\n",
       "        vertical-align: top;\n",
       "    }\n",
       "\n",
       "    .dataframe thead th {\n",
       "        text-align: right;\n",
       "    }\n",
       "</style>\n",
       "<table border=\"1\" class=\"dataframe\">\n",
       "  <thead>\n",
       "    <tr style=\"text-align: right;\">\n",
       "      <th></th>\n",
       "      <th>Date</th>\n",
       "      <th>Returns</th>\n",
       "      <th>Dax40</th>\n",
       "      <th>Excess_Returns</th>\n",
       "    </tr>\n",
       "  </thead>\n",
       "  <tbody>\n",
       "    <tr>\n",
       "      <th>0</th>\n",
       "      <td>2011-02-28</td>\n",
       "      <td>-0.011706</td>\n",
       "      <td>0.000000</td>\n",
       "      <td>-0.011706</td>\n",
       "    </tr>\n",
       "    <tr>\n",
       "      <th>2</th>\n",
       "      <td>2011-03-31</td>\n",
       "      <td>0.039353</td>\n",
       "      <td>-0.031766</td>\n",
       "      <td>0.071118</td>\n",
       "    </tr>\n",
       "    <tr>\n",
       "      <th>3</th>\n",
       "      <td>2011-04-30</td>\n",
       "      <td>-0.023413</td>\n",
       "      <td>0.067196</td>\n",
       "      <td>-0.090609</td>\n",
       "    </tr>\n",
       "  </tbody>\n",
       "</table>\n",
       "</div>"
      ],
      "text/plain": [
       "        Date   Returns     Dax40  Excess_Returns\n",
       "0 2011-02-28 -0.011706  0.000000       -0.011706\n",
       "2 2011-03-31  0.039353 -0.031766        0.071118\n",
       "3 2011-04-30 -0.023413  0.067196       -0.090609"
      ]
     },
     "execution_count": 144,
     "metadata": {},
     "output_type": "execute_result"
    }
   ],
   "source": [
    "comb_df.head(3)"
   ]
  },
  {
   "cell_type": "code",
   "execution_count": 145,
   "id": "cc1c05e3",
   "metadata": {},
   "outputs": [
    {
     "name": "stderr",
     "output_type": "stream",
     "text": [
      "C:\\Users\\user\\AppData\\Local\\Temp\\ipykernel_9556\\669377698.py:3: SettingWithCopyWarning: \n",
      "A value is trying to be set on a copy of a slice from a DataFrame.\n",
      "Try using .loc[row_indexer,col_indexer] = value instead\n",
      "\n",
      "See the caveats in the documentation: https://pandas.pydata.org/pandas-docs/stable/user_guide/indexing.html#returning-a-view-versus-a-copy\n",
      "  comb_df[\"Outperformed\"]=[\"Yes\" if i > 0 else \"No\" for i in comb_df.Excess_Returns]\n"
     ]
    }
   ],
   "source": [
    "# Outperformed or not? USe list comprehension\n",
    "\n",
    "comb_df[\"Outperformed\"]=[\"Yes\" if i > 0 else \"No\" for i in comb_df.Excess_Returns]"
   ]
  },
  {
   "cell_type": "code",
   "execution_count": 146,
   "id": "91634ccf",
   "metadata": {},
   "outputs": [
    {
     "data": {
      "text/html": [
       "<div>\n",
       "<style scoped>\n",
       "    .dataframe tbody tr th:only-of-type {\n",
       "        vertical-align: middle;\n",
       "    }\n",
       "\n",
       "    .dataframe tbody tr th {\n",
       "        vertical-align: top;\n",
       "    }\n",
       "\n",
       "    .dataframe thead th {\n",
       "        text-align: right;\n",
       "    }\n",
       "</style>\n",
       "<table border=\"1\" class=\"dataframe\">\n",
       "  <thead>\n",
       "    <tr style=\"text-align: right;\">\n",
       "      <th></th>\n",
       "      <th>Date</th>\n",
       "      <th>Returns</th>\n",
       "      <th>Dax40</th>\n",
       "      <th>Excess_Returns</th>\n",
       "      <th>Outperformed</th>\n",
       "    </tr>\n",
       "  </thead>\n",
       "  <tbody>\n",
       "    <tr>\n",
       "      <th>0</th>\n",
       "      <td>2011-02-28</td>\n",
       "      <td>-0.011706</td>\n",
       "      <td>0.000000</td>\n",
       "      <td>-0.011706</td>\n",
       "      <td>No</td>\n",
       "    </tr>\n",
       "    <tr>\n",
       "      <th>2</th>\n",
       "      <td>2011-03-31</td>\n",
       "      <td>0.039353</td>\n",
       "      <td>-0.031766</td>\n",
       "      <td>0.071118</td>\n",
       "      <td>Yes</td>\n",
       "    </tr>\n",
       "    <tr>\n",
       "      <th>3</th>\n",
       "      <td>2011-04-30</td>\n",
       "      <td>-0.023413</td>\n",
       "      <td>0.067196</td>\n",
       "      <td>-0.090609</td>\n",
       "      <td>No</td>\n",
       "    </tr>\n",
       "  </tbody>\n",
       "</table>\n",
       "</div>"
      ],
      "text/plain": [
       "        Date   Returns     Dax40  Excess_Returns Outperformed\n",
       "0 2011-02-28 -0.011706  0.000000       -0.011706           No\n",
       "2 2011-03-31  0.039353 -0.031766        0.071118          Yes\n",
       "3 2011-04-30 -0.023413  0.067196       -0.090609           No"
      ]
     },
     "execution_count": 146,
     "metadata": {},
     "output_type": "execute_result"
    }
   ],
   "source": [
    "comb_df.head(3)"
   ]
  },
  {
   "cell_type": "code",
   "execution_count": 147,
   "id": "44485ef9",
   "metadata": {},
   "outputs": [
    {
     "data": {
      "text/plain": [
       "(57, 5)"
      ]
     },
     "execution_count": 147,
     "metadata": {},
     "output_type": "execute_result"
    }
   ],
   "source": [
    "# Hit rate = Yes/Total\n",
    "\n",
    "comb_df[comb_df.Outperformed== \"Yes\"].shape"
   ]
  },
  {
   "cell_type": "code",
   "execution_count": 148,
   "id": "d9808c15",
   "metadata": {},
   "outputs": [
    {
     "data": {
      "text/plain": [
       "(118, 5)"
      ]
     },
     "execution_count": 148,
     "metadata": {},
     "output_type": "execute_result"
    }
   ],
   "source": [
    "comb_df.shape"
   ]
  },
  {
   "cell_type": "code",
   "execution_count": 149,
   "id": "968c1a6b",
   "metadata": {},
   "outputs": [
    {
     "data": {
      "text/plain": [
       "0.4830508474576271"
      ]
     },
     "execution_count": 149,
     "metadata": {},
     "output_type": "execute_result"
    }
   ],
   "source": [
    "57/118"
   ]
  },
  {
   "cell_type": "code",
   "execution_count": null,
   "id": "e4b7c0b1",
   "metadata": {},
   "outputs": [],
   "source": []
  },
  {
   "cell_type": "markdown",
   "id": "32b9d005",
   "metadata": {},
   "source": [
    "#### Hit rate of 48 % means you are gonna lose money more than half of the time"
   ]
  },
  {
   "cell_type": "code",
   "execution_count": 150,
   "id": "a5e5d6e3",
   "metadata": {},
   "outputs": [
    {
     "data": {
      "text/html": [
       "<div>\n",
       "<style scoped>\n",
       "    .dataframe tbody tr th:only-of-type {\n",
       "        vertical-align: middle;\n",
       "    }\n",
       "\n",
       "    .dataframe tbody tr th {\n",
       "        vertical-align: top;\n",
       "    }\n",
       "\n",
       "    .dataframe thead th {\n",
       "        text-align: right;\n",
       "    }\n",
       "</style>\n",
       "<table border=\"1\" class=\"dataframe\">\n",
       "  <thead>\n",
       "    <tr style=\"text-align: right;\">\n",
       "      <th></th>\n",
       "      <th>Date</th>\n",
       "      <th>Returns</th>\n",
       "      <th>Dax40</th>\n",
       "      <th>Excess_Returns</th>\n",
       "      <th>Outperformed</th>\n",
       "    </tr>\n",
       "  </thead>\n",
       "  <tbody>\n",
       "    <tr>\n",
       "      <th>0</th>\n",
       "      <td>2011-02-28</td>\n",
       "      <td>-0.011706</td>\n",
       "      <td>0.000000</td>\n",
       "      <td>-0.011706</td>\n",
       "      <td>No</td>\n",
       "    </tr>\n",
       "    <tr>\n",
       "      <th>2</th>\n",
       "      <td>2011-03-31</td>\n",
       "      <td>0.039353</td>\n",
       "      <td>-0.031766</td>\n",
       "      <td>0.071118</td>\n",
       "      <td>Yes</td>\n",
       "    </tr>\n",
       "    <tr>\n",
       "      <th>3</th>\n",
       "      <td>2011-04-30</td>\n",
       "      <td>-0.023413</td>\n",
       "      <td>0.067196</td>\n",
       "      <td>-0.090609</td>\n",
       "      <td>No</td>\n",
       "    </tr>\n",
       "    <tr>\n",
       "      <th>4</th>\n",
       "      <td>2011-05-31</td>\n",
       "      <td>-0.008381</td>\n",
       "      <td>-0.029379</td>\n",
       "      <td>0.020998</td>\n",
       "      <td>Yes</td>\n",
       "    </tr>\n",
       "    <tr>\n",
       "      <th>5</th>\n",
       "      <td>2011-06-30</td>\n",
       "      <td>-0.040766</td>\n",
       "      <td>0.011318</td>\n",
       "      <td>-0.052084</td>\n",
       "      <td>No</td>\n",
       "    </tr>\n",
       "  </tbody>\n",
       "</table>\n",
       "</div>"
      ],
      "text/plain": [
       "        Date   Returns     Dax40  Excess_Returns Outperformed\n",
       "0 2011-02-28 -0.011706  0.000000       -0.011706           No\n",
       "2 2011-03-31  0.039353 -0.031766        0.071118          Yes\n",
       "3 2011-04-30 -0.023413  0.067196       -0.090609           No\n",
       "4 2011-05-31 -0.008381 -0.029379        0.020998          Yes\n",
       "5 2011-06-30 -0.040766  0.011318       -0.052084           No"
      ]
     },
     "execution_count": 150,
     "metadata": {},
     "output_type": "execute_result"
    }
   ],
   "source": [
    "comb_df.head()"
   ]
  },
  {
   "cell_type": "code",
   "execution_count": 151,
   "id": "10594ff4",
   "metadata": {},
   "outputs": [
    {
     "data": {
      "text/plain": [
       "Int64Index([  0,   2,   3,   4,   5,   6,   7,   8,   9,  10,\n",
       "            ...\n",
       "            109, 110, 111, 112, 113, 114, 115, 116, 117, 118],\n",
       "           dtype='int64', length=118)"
      ]
     },
     "execution_count": 151,
     "metadata": {},
     "output_type": "execute_result"
    }
   ],
   "source": [
    "comb_df.index"
   ]
  },
  {
   "cell_type": "code",
   "execution_count": 152,
   "id": "12e15f43",
   "metadata": {},
   "outputs": [],
   "source": [
    "# Making the \"Date\" column the index column of the dataframe\n",
    "\n",
    "comb_df=comb_df.set_index(\"Date\")"
   ]
  },
  {
   "cell_type": "code",
   "execution_count": 153,
   "id": "4bab1a35",
   "metadata": {},
   "outputs": [],
   "source": [
    "# Lets create a new column which has the dollar amount that we get as strategy's profits and compare this with the buy and hold\n",
    "# profits from investing in dax index\n",
    "\n",
    "strat_profit= 1000* (1+ comb_df[\"Returns\"]).cumprod()\n",
    "dax_profit=1000* (1+ comb_df[\"Dax40\"]).cumprod()\n"
   ]
  },
  {
   "cell_type": "code",
   "execution_count": 157,
   "id": "3c7e2b35",
   "metadata": {},
   "outputs": [],
   "source": [
    "# Bringing the wealth index in the comb_df \n",
    "\n",
    "comb_df[\"strategy_profits\"]= wealth_index.values\n",
    "comb_df[\"dax_profits\"]= dax_profit.values"
   ]
  },
  {
   "cell_type": "code",
   "execution_count": null,
   "id": "0a929872",
   "metadata": {},
   "outputs": [],
   "source": []
  },
  {
   "cell_type": "code",
   "execution_count": 158,
   "id": "d62dc733",
   "metadata": {},
   "outputs": [
    {
     "data": {
      "text/html": [
       "<div>\n",
       "<style scoped>\n",
       "    .dataframe tbody tr th:only-of-type {\n",
       "        vertical-align: middle;\n",
       "    }\n",
       "\n",
       "    .dataframe tbody tr th {\n",
       "        vertical-align: top;\n",
       "    }\n",
       "\n",
       "    .dataframe thead th {\n",
       "        text-align: right;\n",
       "    }\n",
       "</style>\n",
       "<table border=\"1\" class=\"dataframe\">\n",
       "  <thead>\n",
       "    <tr style=\"text-align: right;\">\n",
       "      <th></th>\n",
       "      <th>Returns</th>\n",
       "      <th>Dax40</th>\n",
       "      <th>Excess_Returns</th>\n",
       "      <th>Outperformed</th>\n",
       "      <th>strategy_profits</th>\n",
       "      <th>dax_profits</th>\n",
       "    </tr>\n",
       "    <tr>\n",
       "      <th>Date</th>\n",
       "      <th></th>\n",
       "      <th></th>\n",
       "      <th></th>\n",
       "      <th></th>\n",
       "      <th></th>\n",
       "      <th></th>\n",
       "    </tr>\n",
       "  </thead>\n",
       "  <tbody>\n",
       "    <tr>\n",
       "      <th>2011-02-28</th>\n",
       "      <td>-0.011706</td>\n",
       "      <td>0.000000</td>\n",
       "      <td>-0.011706</td>\n",
       "      <td>No</td>\n",
       "      <td>988.294351</td>\n",
       "      <td>1000.000000</td>\n",
       "    </tr>\n",
       "    <tr>\n",
       "      <th>2011-03-31</th>\n",
       "      <td>0.039353</td>\n",
       "      <td>-0.031766</td>\n",
       "      <td>0.071118</td>\n",
       "      <td>Yes</td>\n",
       "      <td>1027.186272</td>\n",
       "      <td>968.234378</td>\n",
       "    </tr>\n",
       "    <tr>\n",
       "      <th>2011-04-30</th>\n",
       "      <td>-0.023413</td>\n",
       "      <td>0.067196</td>\n",
       "      <td>-0.090609</td>\n",
       "      <td>No</td>\n",
       "      <td>1003.137058</td>\n",
       "      <td>1033.296134</td>\n",
       "    </tr>\n",
       "  </tbody>\n",
       "</table>\n",
       "</div>"
      ],
      "text/plain": [
       "             Returns     Dax40  Excess_Returns Outperformed  strategy_profits  \\\n",
       "Date                                                                            \n",
       "2011-02-28 -0.011706  0.000000       -0.011706           No        988.294351   \n",
       "2011-03-31  0.039353 -0.031766        0.071118          Yes       1027.186272   \n",
       "2011-04-30 -0.023413  0.067196       -0.090609           No       1003.137058   \n",
       "\n",
       "            dax_profits  \n",
       "Date                     \n",
       "2011-02-28  1000.000000  \n",
       "2011-03-31   968.234378  \n",
       "2011-04-30  1033.296134  "
      ]
     },
     "execution_count": 158,
     "metadata": {},
     "output_type": "execute_result"
    }
   ],
   "source": [
    "comb_df.head(3)"
   ]
  },
  {
   "cell_type": "code",
   "execution_count": 120,
   "id": "2782a7df",
   "metadata": {},
   "outputs": [],
   "source": [
    "import matplotlib.pyplot as plt"
   ]
  },
  {
   "cell_type": "code",
   "execution_count": 160,
   "id": "8aaeaca2",
   "metadata": {},
   "outputs": [
    {
     "data": {
      "image/png": "[encoded data removed]",
      "text/plain": [
       "<Figure size 1000x600 with 1 Axes>"
      ]
     },
     "metadata": {},
     "output_type": "display_data"
    }
   ],
   "source": [
    "comb_df[:].plot(y=[\"strategy_profits\", \"dax_profits\"], \n",
    "               figsize=(10,6),\n",
    "               grid=True,\n",
    "               ylabel=\"Dollar profits\")\n",
    "plt.show()"
   ]
  },
  {
   "cell_type": "code",
   "execution_count": null,
   "id": "c94ff131",
   "metadata": {},
   "outputs": [],
   "source": []
  },
  {
   "cell_type": "code",
   "execution_count": null,
   "id": "47138492",
   "metadata": {},
   "outputs": [],
   "source": []
  }
 ],
 "metadata": {
  "kernelspec": {
   "display_name": "Python 3 (ipykernel)",
   "language": "python",
   "name": "python3"
  },
  "language_info": {
   "codemirror_mode": {
    "name": "ipython",
    "version": 3
   },
   "file_extension": ".py",
   "mimetype": "text/x-python",
   "name": "python",
   "nbconvert_exporter": "python",
   "pygments_lexer": "ipython3",
   "version": "3.9.13"
  }
 },
 "nbformat": 4,
 "nbformat_minor": 5
}
