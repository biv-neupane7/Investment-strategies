{
 "cells": [
  {
   "cell_type": "code",
   "execution_count": 40,
   "id": "d4570b4d",
   "metadata": {},
   "outputs": [],
   "source": [
    "# importing all the required packages\n",
    "\n",
    "import pandas as pd\n",
    "import numpy as np\n",
    "import pandas_datareader as reader\n",
    "import datetime as dt\n",
    "import yfinance as yf\n",
    "from pandas.tseries.offsets import MonthEnd"
   ]
  },
  {
   "cell_type": "code",
   "execution_count": 41,
   "id": "c8f2a689",
   "metadata": {},
   "outputs": [],
   "source": [
    "# Get the tickers of DAX index from Wiki\n",
    "\n",
    "dax=pd.read_html(\"https://en.wikipedia.org/wiki/DAX\")[4]"
   ]
  },
  {
   "cell_type": "code",
   "execution_count": 42,
   "id": "49087f89",
   "metadata": {},
   "outputs": [
    {
     "data": {
      "text/plain": [
       "['ADS.DE',\n",
       " 'AIR.DE',\n",
       " 'ALV.DE',\n",
       " 'BAS.DE',\n",
       " 'BAYN.DE',\n",
       " 'BEI.DE',\n",
       " 'BMW.DE',\n",
       " 'BNR.DE',\n",
       " 'CON.DE',\n",
       " '1COV.DE',\n",
       " 'DTG.DE',\n",
       " 'DBK.DE',\n",
       " 'DB1.DE',\n",
       " 'DPW.DE',\n",
       " 'DTE.DE',\n",
       " 'EOAN.DE',\n",
       " 'FRE.DE',\n",
       " 'FME.DE',\n",
       " 'HNR1.DE',\n",
       " 'HEI.DE',\n",
       " 'HEN3.DE',\n",
       " 'IFX.DE',\n",
       " 'LIN.DE',\n",
       " 'MBG.DE',\n",
       " 'MRK.DE',\n",
       " 'MTX.DE',\n",
       " 'MUV2.DE',\n",
       " 'PAH3.DE',\n",
       " 'PUM.DE',\n",
       " 'QIA.DE',\n",
       " 'RWE.DE',\n",
       " 'SAP.DE',\n",
       " 'SRT3.DE',\n",
       " 'SIE.DE',\n",
       " 'ENR.DE',\n",
       " 'SHL.DE',\n",
       " 'SY1.DE',\n",
       " 'VOW3.DE',\n",
       " 'VNA.DE',\n",
       " 'ZAL.DE']"
      ]
     },
     "execution_count": 42,
     "metadata": {},
     "output_type": "execute_result"
    }
   ],
   "source": [
    "tickers= dax.Ticker.to_list()\n",
    "tickers"
   ]
  },
  {
   "cell_type": "code",
   "execution_count": 43,
   "id": "b97690c6",
   "metadata": {},
   "outputs": [
    {
     "name": "stdout",
     "output_type": "stream",
     "text": [
      "[*********************100%***********************]  40 of 40 completed\n"
     ]
    }
   ],
   "source": [
    "# Getting the price data for the components of DAX index using yfinance\n",
    "\n",
    "dax_price=yf.download(tickers, start=\"2009-12-31\", end=\"2021-12-31\")"
   ]
  },
  {
   "cell_type": "code",
   "execution_count": 44,
   "id": "fff30263",
   "metadata": {},
   "outputs": [
    {
     "data": {
      "text/html": [
       "<div>\n",
       "<style scoped>\n",
       "    .dataframe tbody tr th:only-of-type {\n",
       "        vertical-align: middle;\n",
       "    }\n",
       "\n",
       "    .dataframe tbody tr th {\n",
       "        vertical-align: top;\n",
       "    }\n",
       "\n",
       "    .dataframe thead th {\n",
       "        text-align: right;\n",
       "    }\n",
       "</style>\n",
       "<table border=\"1\" class=\"dataframe\">\n",
       "  <thead>\n",
       "    <tr style=\"text-align: right;\">\n",
       "      <th></th>\n",
       "      <th>1COV.DE</th>\n",
       "      <th>ADS.DE</th>\n",
       "      <th>AIR.DE</th>\n",
       "      <th>ALV.DE</th>\n",
       "      <th>BAS.DE</th>\n",
       "      <th>BAYN.DE</th>\n",
       "      <th>BEI.DE</th>\n",
       "      <th>BMW.DE</th>\n",
       "      <th>BNR.DE</th>\n",
       "      <th>CON.DE</th>\n",
       "      <th>...</th>\n",
       "      <th>QIA.DE</th>\n",
       "      <th>RWE.DE</th>\n",
       "      <th>SAP.DE</th>\n",
       "      <th>SHL.DE</th>\n",
       "      <th>SIE.DE</th>\n",
       "      <th>SRT3.DE</th>\n",
       "      <th>SY1.DE</th>\n",
       "      <th>VNA.DE</th>\n",
       "      <th>VOW3.DE</th>\n",
       "      <th>ZAL.DE</th>\n",
       "    </tr>\n",
       "    <tr>\n",
       "      <th>Date</th>\n",
       "      <th></th>\n",
       "      <th></th>\n",
       "      <th></th>\n",
       "      <th></th>\n",
       "      <th></th>\n",
       "      <th></th>\n",
       "      <th></th>\n",
       "      <th></th>\n",
       "      <th></th>\n",
       "      <th></th>\n",
       "      <th></th>\n",
       "      <th></th>\n",
       "      <th></th>\n",
       "      <th></th>\n",
       "      <th></th>\n",
       "      <th></th>\n",
       "      <th></th>\n",
       "      <th></th>\n",
       "      <th></th>\n",
       "      <th></th>\n",
       "      <th></th>\n",
       "    </tr>\n",
       "  </thead>\n",
       "  <tbody>\n",
       "    <tr>\n",
       "      <th>2010-01-04</th>\n",
       "      <td>NaN</td>\n",
       "      <td>31.165903</td>\n",
       "      <td>11.332298</td>\n",
       "      <td>47.995468</td>\n",
       "      <td>24.106215</td>\n",
       "      <td>36.843716</td>\n",
       "      <td>39.553482</td>\n",
       "      <td>19.280518</td>\n",
       "      <td>NaN</td>\n",
       "      <td>27.060913</td>\n",
       "      <td>...</td>\n",
       "      <td>15.724052</td>\n",
       "      <td>39.131073</td>\n",
       "      <td>27.136261</td>\n",
       "      <td>NaN</td>\n",
       "      <td>41.060322</td>\n",
       "      <td>3.695453</td>\n",
       "      <td>12.404505</td>\n",
       "      <td>NaN</td>\n",
       "      <td>46.819508</td>\n",
       "      <td>NaN</td>\n",
       "    </tr>\n",
       "    <tr>\n",
       "      <th>2010-01-05</th>\n",
       "      <td>NaN</td>\n",
       "      <td>32.149315</td>\n",
       "      <td>11.251352</td>\n",
       "      <td>48.141823</td>\n",
       "      <td>23.740726</td>\n",
       "      <td>36.170856</td>\n",
       "      <td>39.344837</td>\n",
       "      <td>19.436930</td>\n",
       "      <td>NaN</td>\n",
       "      <td>28.753778</td>\n",
       "      <td>...</td>\n",
       "      <td>15.484903</td>\n",
       "      <td>38.881393</td>\n",
       "      <td>26.893240</td>\n",
       "      <td>NaN</td>\n",
       "      <td>41.085411</td>\n",
       "      <td>3.573745</td>\n",
       "      <td>12.408502</td>\n",
       "      <td>NaN</td>\n",
       "      <td>45.912148</td>\n",
       "      <td>NaN</td>\n",
       "    </tr>\n",
       "    <tr>\n",
       "      <th>2010-01-06</th>\n",
       "      <td>NaN</td>\n",
       "      <td>31.890308</td>\n",
       "      <td>11.328251</td>\n",
       "      <td>48.515854</td>\n",
       "      <td>23.891220</td>\n",
       "      <td>35.942219</td>\n",
       "      <td>39.315029</td>\n",
       "      <td>19.737719</td>\n",
       "      <td>NaN</td>\n",
       "      <td>28.941877</td>\n",
       "      <td>...</td>\n",
       "      <td>15.709105</td>\n",
       "      <td>38.807625</td>\n",
       "      <td>27.371046</td>\n",
       "      <td>NaN</td>\n",
       "      <td>41.235935</td>\n",
       "      <td>3.606939</td>\n",
       "      <td>12.808260</td>\n",
       "      <td>NaN</td>\n",
       "      <td>47.182446</td>\n",
       "      <td>NaN</td>\n",
       "    </tr>\n",
       "  </tbody>\n",
       "</table>\n",
       "<p>3 rows × 40 columns</p>\n",
       "</div>"
      ],
      "text/plain": [
       "            1COV.DE     ADS.DE     AIR.DE     ALV.DE     BAS.DE    BAYN.DE  \\\n",
       "Date                                                                         \n",
       "2010-01-04      NaN  31.165903  11.332298  47.995468  24.106215  36.843716   \n",
       "2010-01-05      NaN  32.149315  11.251352  48.141823  23.740726  36.170856   \n",
       "2010-01-06      NaN  31.890308  11.328251  48.515854  23.891220  35.942219   \n",
       "\n",
       "               BEI.DE     BMW.DE  BNR.DE     CON.DE  ...     QIA.DE  \\\n",
       "Date                                                 ...              \n",
       "2010-01-04  39.553482  19.280518     NaN  27.060913  ...  15.724052   \n",
       "2010-01-05  39.344837  19.436930     NaN  28.753778  ...  15.484903   \n",
       "2010-01-06  39.315029  19.737719     NaN  28.941877  ...  15.709105   \n",
       "\n",
       "               RWE.DE     SAP.DE  SHL.DE     SIE.DE   SRT3.DE     SY1.DE  \\\n",
       "Date                                                                       \n",
       "2010-01-04  39.131073  27.136261     NaN  41.060322  3.695453  12.404505   \n",
       "2010-01-05  38.881393  26.893240     NaN  41.085411  3.573745  12.408502   \n",
       "2010-01-06  38.807625  27.371046     NaN  41.235935  3.606939  12.808260   \n",
       "\n",
       "            VNA.DE    VOW3.DE  ZAL.DE  \n",
       "Date                                   \n",
       "2010-01-04     NaN  46.819508     NaN  \n",
       "2010-01-05     NaN  45.912148     NaN  \n",
       "2010-01-06     NaN  47.182446     NaN  \n",
       "\n",
       "[3 rows x 40 columns]"
      ]
     },
     "execution_count": 44,
     "metadata": {},
     "output_type": "execute_result"
    }
   ],
   "source": [
    "prices=dax_price[\"Adj Close\"]\n",
    "prices.head(3)"
   ]
  },
  {
   "cell_type": "code",
   "execution_count": 45,
   "id": "79c0394f",
   "metadata": {},
   "outputs": [],
   "source": [
    "# Replacing the dots with dashes in the ticker symbol\n",
    "\n",
    "ticker=[]\n",
    "\n",
    "for i in tickers:\n",
    "    ticker.append(i.replace(\".\",\"-\"))"
   ]
  },
  {
   "cell_type": "code",
   "execution_count": 46,
   "id": "253e812f",
   "metadata": {},
   "outputs": [],
   "source": [
    "# changing the column names in the prices df\n",
    "\n",
    "prices.columns=ticker"
   ]
  },
  {
   "cell_type": "code",
   "execution_count": 47,
   "id": "ff33a75f",
   "metadata": {},
   "outputs": [
    {
     "data": {
      "text/html": [
       "<div>\n",
       "<style scoped>\n",
       "    .dataframe tbody tr th:only-of-type {\n",
       "        vertical-align: middle;\n",
       "    }\n",
       "\n",
       "    .dataframe tbody tr th {\n",
       "        vertical-align: top;\n",
       "    }\n",
       "\n",
       "    .dataframe thead th {\n",
       "        text-align: right;\n",
       "    }\n",
       "</style>\n",
       "<table border=\"1\" class=\"dataframe\">\n",
       "  <thead>\n",
       "    <tr style=\"text-align: right;\">\n",
       "      <th></th>\n",
       "      <th>ADS-DE</th>\n",
       "      <th>AIR-DE</th>\n",
       "      <th>ALV-DE</th>\n",
       "      <th>BAS-DE</th>\n",
       "      <th>BAYN-DE</th>\n",
       "      <th>BEI-DE</th>\n",
       "      <th>BMW-DE</th>\n",
       "      <th>BNR-DE</th>\n",
       "      <th>CON-DE</th>\n",
       "      <th>1COV-DE</th>\n",
       "      <th>...</th>\n",
       "      <th>RWE-DE</th>\n",
       "      <th>SAP-DE</th>\n",
       "      <th>SRT3-DE</th>\n",
       "      <th>SIE-DE</th>\n",
       "      <th>ENR-DE</th>\n",
       "      <th>SHL-DE</th>\n",
       "      <th>SY1-DE</th>\n",
       "      <th>VOW3-DE</th>\n",
       "      <th>VNA-DE</th>\n",
       "      <th>ZAL-DE</th>\n",
       "    </tr>\n",
       "    <tr>\n",
       "      <th>Date</th>\n",
       "      <th></th>\n",
       "      <th></th>\n",
       "      <th></th>\n",
       "      <th></th>\n",
       "      <th></th>\n",
       "      <th></th>\n",
       "      <th></th>\n",
       "      <th></th>\n",
       "      <th></th>\n",
       "      <th></th>\n",
       "      <th></th>\n",
       "      <th></th>\n",
       "      <th></th>\n",
       "      <th></th>\n",
       "      <th></th>\n",
       "      <th></th>\n",
       "      <th></th>\n",
       "      <th></th>\n",
       "      <th></th>\n",
       "      <th></th>\n",
       "      <th></th>\n",
       "    </tr>\n",
       "  </thead>\n",
       "  <tbody>\n",
       "    <tr>\n",
       "      <th>2010-01-31</th>\n",
       "      <td>0.0</td>\n",
       "      <td>-0.041423</td>\n",
       "      <td>0.016429</td>\n",
       "      <td>-0.091710</td>\n",
       "      <td>-0.080825</td>\n",
       "      <td>-0.122784</td>\n",
       "      <td>-0.089784</td>\n",
       "      <td>-0.034009</td>\n",
       "      <td>0.000000</td>\n",
       "      <td>0.084958</td>\n",
       "      <td>...</td>\n",
       "      <td>0.000634</td>\n",
       "      <td>-0.068446</td>\n",
       "      <td>0.004250</td>\n",
       "      <td>0.0</td>\n",
       "      <td>0.018028</td>\n",
       "      <td>0.012575</td>\n",
       "      <td>0.039317</td>\n",
       "      <td>0.0</td>\n",
       "      <td>-0.091473</td>\n",
       "      <td>0.0</td>\n",
       "    </tr>\n",
       "    <tr>\n",
       "      <th>2010-02-28</th>\n",
       "      <td>0.0</td>\n",
       "      <td>-0.014088</td>\n",
       "      <td>0.066058</td>\n",
       "      <td>0.054464</td>\n",
       "      <td>0.000364</td>\n",
       "      <td>-0.016271</td>\n",
       "      <td>0.065050</td>\n",
       "      <td>-0.037952</td>\n",
       "      <td>0.000000</td>\n",
       "      <td>-0.157375</td>\n",
       "      <td>...</td>\n",
       "      <td>0.015199</td>\n",
       "      <td>-0.030511</td>\n",
       "      <td>-0.009674</td>\n",
       "      <td>0.0</td>\n",
       "      <td>-0.022035</td>\n",
       "      <td>0.026020</td>\n",
       "      <td>-0.029457</td>\n",
       "      <td>0.0</td>\n",
       "      <td>0.020478</td>\n",
       "      <td>0.0</td>\n",
       "    </tr>\n",
       "    <tr>\n",
       "      <th>2010-03-31</th>\n",
       "      <td>0.0</td>\n",
       "      <td>0.088211</td>\n",
       "      <td>-0.015821</td>\n",
       "      <td>0.094694</td>\n",
       "      <td>0.113482</td>\n",
       "      <td>0.028971</td>\n",
       "      <td>-0.016435</td>\n",
       "      <td>0.147558</td>\n",
       "      <td>0.018518</td>\n",
       "      <td>0.113929</td>\n",
       "      <td>...</td>\n",
       "      <td>0.063631</td>\n",
       "      <td>0.053308</td>\n",
       "      <td>0.094628</td>\n",
       "      <td>0.0</td>\n",
       "      <td>0.177171</td>\n",
       "      <td>0.132565</td>\n",
       "      <td>0.126517</td>\n",
       "      <td>0.0</td>\n",
       "      <td>0.142281</td>\n",
       "      <td>0.0</td>\n",
       "    </tr>\n",
       "  </tbody>\n",
       "</table>\n",
       "<p>3 rows × 40 columns</p>\n",
       "</div>"
      ],
      "text/plain": [
       "            ADS-DE    AIR-DE    ALV-DE    BAS-DE   BAYN-DE    BEI-DE  \\\n",
       "Date                                                                   \n",
       "2010-01-31     0.0 -0.041423  0.016429 -0.091710 -0.080825 -0.122784   \n",
       "2010-02-28     0.0 -0.014088  0.066058  0.054464  0.000364 -0.016271   \n",
       "2010-03-31     0.0  0.088211 -0.015821  0.094694  0.113482  0.028971   \n",
       "\n",
       "              BMW-DE    BNR-DE    CON-DE   1COV-DE  ...    RWE-DE    SAP-DE  \\\n",
       "Date                                                ...                       \n",
       "2010-01-31 -0.089784 -0.034009  0.000000  0.084958  ...  0.000634 -0.068446   \n",
       "2010-02-28  0.065050 -0.037952  0.000000 -0.157375  ...  0.015199 -0.030511   \n",
       "2010-03-31 -0.016435  0.147558  0.018518  0.113929  ...  0.063631  0.053308   \n",
       "\n",
       "             SRT3-DE  SIE-DE    ENR-DE    SHL-DE    SY1-DE  VOW3-DE    VNA-DE  \\\n",
       "Date                                                                            \n",
       "2010-01-31  0.004250     0.0  0.018028  0.012575  0.039317      0.0 -0.091473   \n",
       "2010-02-28 -0.009674     0.0 -0.022035  0.026020 -0.029457      0.0  0.020478   \n",
       "2010-03-31  0.094628     0.0  0.177171  0.132565  0.126517      0.0  0.142281   \n",
       "\n",
       "            ZAL-DE  \n",
       "Date                \n",
       "2010-01-31     0.0  \n",
       "2010-02-28     0.0  \n",
       "2010-03-31     0.0  \n",
       "\n",
       "[3 rows x 40 columns]"
      ]
     },
     "execution_count": 47,
     "metadata": {},
     "output_type": "execute_result"
    }
   ],
   "source": [
    "# calculating monthly returns from the daily prices. This means calculating monthly returns by aggregating all the daily returns\n",
    "# at month t and doing the same for all the following months. And finally, calculating pct_change from month t to month t+1\n",
    "\n",
    "# And note that the daily returns have to be compunded to finally get to the end of the month returns. \n",
    "\n",
    "mtl_rets=prices.pct_change().resample(\"M\").agg(lambda x:(x+1).prod()-1)\n",
    "mtl_rets.head(3)"
   ]
  },
  {
   "cell_type": "code",
   "execution_count": 48,
   "id": "44045e3c",
   "metadata": {},
   "outputs": [
    {
     "data": {
      "text/plain": [
       "(144, 40)"
      ]
     },
     "execution_count": 48,
     "metadata": {},
     "output_type": "execute_result"
    }
   ],
   "source": [
    "mtl_rets.shape"
   ]
  },
  {
   "cell_type": "code",
   "execution_count": 49,
   "id": "15a99d82",
   "metadata": {},
   "outputs": [],
   "source": [
    "# Calculating rolling 11 months returns (compounded ofcourse)\n",
    "\n",
    "rolling_rets=(mtl_rets+1).rolling(11).apply(np.prod)-1 # np.prod helps in compounding the monthly returns"
   ]
  },
  {
   "cell_type": "code",
   "execution_count": null,
   "id": "caa5783a",
   "metadata": {},
   "outputs": [],
   "source": []
  },
  {
   "cell_type": "code",
   "execution_count": 50,
   "id": "e25716e4",
   "metadata": {},
   "outputs": [
    {
     "data": {
      "text/plain": [
       "datetime.datetime(2011, 1, 1, 0, 0)"
      ]
     },
     "execution_count": 50,
     "metadata": {},
     "output_type": "execute_result"
    }
   ],
   "source": [
    "# defining the formation date \n",
    "# formation date = date on which we gonna buy the winners and short sell the losers\n",
    "\n",
    "formation_date= dt.datetime(2011,1,1)\n",
    "formation_date"
   ]
  },
  {
   "cell_type": "code",
   "execution_count": 51,
   "id": "7787c3c2",
   "metadata": {},
   "outputs": [
    {
     "data": {
      "text/plain": [
       "Timestamp('2010-12-31 00:00:00')"
      ]
     },
     "execution_count": 51,
     "metadata": {},
     "output_type": "execute_result"
    }
   ],
   "source": [
    "# defining the end date\n",
    "# end date= The date up until which the prior monthly returns are calculated and on the basis of this \"end_date\", we are gonna \n",
    "            # sort the winners and losers on the formation date. \n",
    "            # In the case of momentum, the end_date includes past 11 months of prior returns (compounded ofcourse)\n",
    "            # 11 months because the evidence suggests that the short term reversals in momentum is a real and strong phenomenom\n",
    "            \n",
    "            \n",
    "end_date=formation_date - MonthEnd(1)\n",
    "end_date"
   ]
  },
  {
   "cell_type": "code",
   "execution_count": 52,
   "id": "a36aa786",
   "metadata": {},
   "outputs": [],
   "source": [
    "# locate the end_date returns in ret12_1 df\n",
    "\n",
    "ret12_1=rolling_rets.loc[end_date]"
   ]
  },
  {
   "cell_type": "code",
   "execution_count": 53,
   "id": "0bd9547a",
   "metadata": {},
   "outputs": [],
   "source": [
    "#reseting the index so that it is converted into a df\n",
    "\n",
    "ret12_1=ret12_1.reset_index()"
   ]
  },
  {
   "cell_type": "code",
   "execution_count": 54,
   "id": "9502a59d",
   "metadata": {},
   "outputs": [
    {
     "data": {
      "text/html": [
       "<div>\n",
       "<style scoped>\n",
       "    .dataframe tbody tr th:only-of-type {\n",
       "        vertical-align: middle;\n",
       "    }\n",
       "\n",
       "    .dataframe tbody tr th {\n",
       "        vertical-align: top;\n",
       "    }\n",
       "\n",
       "    .dataframe thead th {\n",
       "        text-align: right;\n",
       "    }\n",
       "</style>\n",
       "<table border=\"1\" class=\"dataframe\">\n",
       "  <thead>\n",
       "    <tr style=\"text-align: right;\">\n",
       "      <th></th>\n",
       "      <th>index</th>\n",
       "      <th>2010-12-31 00:00:00</th>\n",
       "    </tr>\n",
       "  </thead>\n",
       "  <tbody>\n",
       "    <tr>\n",
       "      <th>0</th>\n",
       "      <td>ADS-DE</td>\n",
       "      <td>0.000000</td>\n",
       "    </tr>\n",
       "    <tr>\n",
       "      <th>1</th>\n",
       "      <td>AIR-DE</td>\n",
       "      <td>0.335663</td>\n",
       "    </tr>\n",
       "    <tr>\n",
       "      <th>2</th>\n",
       "      <td>ALV-DE</td>\n",
       "      <td>0.268447</td>\n",
       "    </tr>\n",
       "    <tr>\n",
       "      <th>3</th>\n",
       "      <td>BAS-DE</td>\n",
       "      <td>0.162344</td>\n",
       "    </tr>\n",
       "    <tr>\n",
       "      <th>4</th>\n",
       "      <td>BAYN-DE</td>\n",
       "      <td>0.503817</td>\n",
       "    </tr>\n",
       "  </tbody>\n",
       "</table>\n",
       "</div>"
      ],
      "text/plain": [
       "     index  2010-12-31 00:00:00\n",
       "0   ADS-DE             0.000000\n",
       "1   AIR-DE             0.335663\n",
       "2   ALV-DE             0.268447\n",
       "3   BAS-DE             0.162344\n",
       "4  BAYN-DE             0.503817"
      ]
     },
     "execution_count": 54,
     "metadata": {},
     "output_type": "execute_result"
    }
   ],
   "source": [
    "ret12_1.head()"
   ]
  },
  {
   "cell_type": "code",
   "execution_count": 55,
   "id": "94950815",
   "metadata": {},
   "outputs": [
    {
     "data": {
      "text/plain": [
       "pandas.core.frame.DataFrame"
      ]
     },
     "execution_count": 55,
     "metadata": {},
     "output_type": "execute_result"
    }
   ],
   "source": [
    "type(ret12_1)"
   ]
  },
  {
   "cell_type": "code",
   "execution_count": 56,
   "id": "c004c69e",
   "metadata": {},
   "outputs": [
    {
     "data": {
      "text/html": [
       "<div>\n",
       "<style scoped>\n",
       "    .dataframe tbody tr th:only-of-type {\n",
       "        vertical-align: middle;\n",
       "    }\n",
       "\n",
       "    .dataframe tbody tr th {\n",
       "        vertical-align: top;\n",
       "    }\n",
       "\n",
       "    .dataframe thead th {\n",
       "        text-align: right;\n",
       "    }\n",
       "</style>\n",
       "<table border=\"1\" class=\"dataframe\">\n",
       "  <thead>\n",
       "    <tr style=\"text-align: right;\">\n",
       "      <th></th>\n",
       "      <th>index</th>\n",
       "      <th>2010-12-31 00:00:00</th>\n",
       "      <th>tercile</th>\n",
       "    </tr>\n",
       "  </thead>\n",
       "  <tbody>\n",
       "    <tr>\n",
       "      <th>0</th>\n",
       "      <td>ADS-DE</td>\n",
       "      <td>0.000000</td>\n",
       "      <td>0</td>\n",
       "    </tr>\n",
       "    <tr>\n",
       "      <th>1</th>\n",
       "      <td>AIR-DE</td>\n",
       "      <td>0.335663</td>\n",
       "      <td>2</td>\n",
       "    </tr>\n",
       "    <tr>\n",
       "      <th>2</th>\n",
       "      <td>ALV-DE</td>\n",
       "      <td>0.268447</td>\n",
       "      <td>1</td>\n",
       "    </tr>\n",
       "  </tbody>\n",
       "</table>\n",
       "</div>"
      ],
      "text/plain": [
       "    index  2010-12-31 00:00:00  tercile\n",
       "0  ADS-DE             0.000000        0\n",
       "1  AIR-DE             0.335663        2\n",
       "2  ALV-DE             0.268447        1"
      ]
     },
     "execution_count": 56,
     "metadata": {},
     "output_type": "execute_result"
    }
   ],
   "source": [
    "# Dividing the above tickers into Terciles on the basis of their cumulative returns upto the end_date\n",
    "\n",
    "ret12_1[\"tercile\"]=pd.qcut(ret12_1.iloc[:,1], 3, labels=False, duplicates=\"drop\")\n",
    "ret12_1.head(3)"
   ]
  },
  {
   "cell_type": "code",
   "execution_count": null,
   "id": "9e2db8e3",
   "metadata": {},
   "outputs": [],
   "source": []
  },
  {
   "cell_type": "code",
   "execution_count": 57,
   "id": "73db7563",
   "metadata": {},
   "outputs": [],
   "source": [
    "# Lets now assign tercile 2 as winners and tercile 0 as losers\n",
    "\n",
    "winners=ret12_1[ret12_1.tercile==2]\n",
    "losers=ret12_1[ret12_1.tercile==0]\n"
   ]
  },
  {
   "cell_type": "code",
   "execution_count": 58,
   "id": "5882c777",
   "metadata": {},
   "outputs": [
    {
     "data": {
      "text/html": [
       "<div>\n",
       "<style scoped>\n",
       "    .dataframe tbody tr th:only-of-type {\n",
       "        vertical-align: middle;\n",
       "    }\n",
       "\n",
       "    .dataframe tbody tr th {\n",
       "        vertical-align: top;\n",
       "    }\n",
       "\n",
       "    .dataframe thead th {\n",
       "        text-align: right;\n",
       "    }\n",
       "</style>\n",
       "<table border=\"1\" class=\"dataframe\">\n",
       "  <thead>\n",
       "    <tr style=\"text-align: right;\">\n",
       "      <th></th>\n",
       "      <th>index</th>\n",
       "      <th>2010-12-31 00:00:00</th>\n",
       "      <th>tercile</th>\n",
       "    </tr>\n",
       "  </thead>\n",
       "  <tbody>\n",
       "    <tr>\n",
       "      <th>1</th>\n",
       "      <td>AIR-DE</td>\n",
       "      <td>0.335663</td>\n",
       "      <td>2</td>\n",
       "    </tr>\n",
       "    <tr>\n",
       "      <th>4</th>\n",
       "      <td>BAYN-DE</td>\n",
       "      <td>0.503817</td>\n",
       "      <td>2</td>\n",
       "    </tr>\n",
       "    <tr>\n",
       "      <th>7</th>\n",
       "      <td>BNR-DE</td>\n",
       "      <td>0.915332</td>\n",
       "      <td>2</td>\n",
       "    </tr>\n",
       "  </tbody>\n",
       "</table>\n",
       "</div>"
      ],
      "text/plain": [
       "     index  2010-12-31 00:00:00  tercile\n",
       "1   AIR-DE             0.335663        2\n",
       "4  BAYN-DE             0.503817        2\n",
       "7   BNR-DE             0.915332        2"
      ]
     },
     "execution_count": 58,
     "metadata": {},
     "output_type": "execute_result"
    }
   ],
   "source": [
    "winners.head(3)"
   ]
  },
  {
   "cell_type": "code",
   "execution_count": 59,
   "id": "ee25b455",
   "metadata": {},
   "outputs": [
    {
     "data": {
      "text/plain": [
       "AIR-DE    -0.069544\n",
       "BAYN-DE   -0.058961\n",
       "BNR-DE    -0.047069\n",
       "Name: 2011-01-31 00:00:00, dtype: float64"
      ]
     },
     "execution_count": 59,
     "metadata": {},
     "output_type": "execute_result"
    }
   ],
   "source": [
    "# So, we are now at the formation date. This means after knowing which ticker belongs to which tercile, now its time to \n",
    "# invest and hold the stock for 1 month and see how the return looks like\n",
    "\n",
    "win_ret=mtl_rets.loc[formation_date + MonthEnd(1), mtl_rets.columns.isin(winners[\"index\"])]\n",
    "win_ret.head(3)"
   ]
  },
  {
   "cell_type": "code",
   "execution_count": 60,
   "id": "8af4429a",
   "metadata": {},
   "outputs": [
    {
     "data": {
      "text/plain": [
       "ADS-DE    0.000000\n",
       "BMW-DE   -0.036243\n",
       "DBK-DE    0.104092\n",
       "Name: 2011-01-31 00:00:00, dtype: float64"
      ]
     },
     "execution_count": 60,
     "metadata": {},
     "output_type": "execute_result"
    }
   ],
   "source": [
    "los_ret=mtl_rets.loc[formation_date + MonthEnd(1), mtl_rets.columns.isin(losers[\"index\"])]\n",
    "los_ret.head(3)"
   ]
  },
  {
   "cell_type": "code",
   "execution_count": 61,
   "id": "f3921a7f",
   "metadata": {},
   "outputs": [
    {
     "data": {
      "text/plain": [
       "0.002349338106174983"
      ]
     },
     "execution_count": 61,
     "metadata": {},
     "output_type": "execute_result"
    }
   ],
   "source": [
    "win_ret.mean()"
   ]
  },
  {
   "cell_type": "markdown",
   "id": "18d55fe7",
   "metadata": {},
   "source": [
    "### Now, lets turn all of the above into a function"
   ]
  },
  {
   "cell_type": "code",
   "execution_count": 62,
   "id": "f97ce56d",
   "metadata": {},
   "outputs": [],
   "source": [
    "def momentum(formation_date): # form date in the brackers coz thats what we gonna use to call the function\n",
    "    end_date=formation_date - MonthEnd(1) # defining end\n",
    "    ret12_1=rolling_rets.loc[end_date] # locating the end date returns in rolling_rets df\n",
    "    ret12_1=ret12_1.reset_index() # reseting the index of ret12_1 to make it a df\n",
    "    ret12_1[\"tercile\"]=pd.qcut(ret12_1.iloc[:,1], 3, labels=False, duplicates=\"drop\") # dividing the returns in ret12_1 into terciles\n",
    "    winners=ret12_1[ret12_1.tercile==2] # just separating winners and losers\n",
    "    losers=ret12_1[ret12_1.tercile==0]\n",
    "    win_rets=mtl_rets.loc[formation_date + MonthEnd(1), mtl_rets.columns.isin(winners[\"index\"])]# going long on the winners at the formation date and holding for 1 month \n",
    "    los_rets=mtl_rets.loc[formation_date + MonthEnd(1), mtl_rets.columns.isin(losers[\"index\"])]\n",
    "    momL_profit=win_rets.mean()\n",
    "    \n",
    "    return momL_profit"
   ]
  },
  {
   "cell_type": "code",
   "execution_count": 63,
   "id": "462f6606",
   "metadata": {},
   "outputs": [
    {
     "data": {
      "text/plain": [
       "0.002349338106174983"
      ]
     },
     "execution_count": 63,
     "metadata": {},
     "output_type": "execute_result"
    }
   ],
   "source": [
    "momentum(formation_date)"
   ]
  },
  {
   "cell_type": "markdown",
   "id": "b889ab2d",
   "metadata": {},
   "source": [
    "#### Lets write a for loop so that we can interate the above function on all the other months"
   ]
  },
  {
   "cell_type": "code",
   "execution_count": 64,
   "id": "aa3972f4",
   "metadata": {},
   "outputs": [
    {
     "data": {
      "text/html": [
       "<div>\n",
       "<style scoped>\n",
       "    .dataframe tbody tr th:only-of-type {\n",
       "        vertical-align: middle;\n",
       "    }\n",
       "\n",
       "    .dataframe tbody tr th {\n",
       "        vertical-align: top;\n",
       "    }\n",
       "\n",
       "    .dataframe thead th {\n",
       "        text-align: right;\n",
       "    }\n",
       "</style>\n",
       "<table border=\"1\" class=\"dataframe\">\n",
       "  <thead>\n",
       "    <tr style=\"text-align: right;\">\n",
       "      <th></th>\n",
       "      <th>ADS-DE</th>\n",
       "      <th>AIR-DE</th>\n",
       "      <th>ALV-DE</th>\n",
       "      <th>BAS-DE</th>\n",
       "      <th>BAYN-DE</th>\n",
       "      <th>BEI-DE</th>\n",
       "      <th>BMW-DE</th>\n",
       "      <th>BNR-DE</th>\n",
       "      <th>CON-DE</th>\n",
       "      <th>1COV-DE</th>\n",
       "      <th>...</th>\n",
       "      <th>RWE-DE</th>\n",
       "      <th>SAP-DE</th>\n",
       "      <th>SRT3-DE</th>\n",
       "      <th>SIE-DE</th>\n",
       "      <th>ENR-DE</th>\n",
       "      <th>SHL-DE</th>\n",
       "      <th>SY1-DE</th>\n",
       "      <th>VOW3-DE</th>\n",
       "      <th>VNA-DE</th>\n",
       "      <th>ZAL-DE</th>\n",
       "    </tr>\n",
       "    <tr>\n",
       "      <th>Date</th>\n",
       "      <th></th>\n",
       "      <th></th>\n",
       "      <th></th>\n",
       "      <th></th>\n",
       "      <th></th>\n",
       "      <th></th>\n",
       "      <th></th>\n",
       "      <th></th>\n",
       "      <th></th>\n",
       "      <th></th>\n",
       "      <th></th>\n",
       "      <th></th>\n",
       "      <th></th>\n",
       "      <th></th>\n",
       "      <th></th>\n",
       "      <th></th>\n",
       "      <th></th>\n",
       "      <th></th>\n",
       "      <th></th>\n",
       "      <th></th>\n",
       "      <th></th>\n",
       "    </tr>\n",
       "  </thead>\n",
       "  <tbody>\n",
       "    <tr>\n",
       "      <th>2021-08-31</th>\n",
       "      <td>0.011795</td>\n",
       "      <td>-0.018458</td>\n",
       "      <td>-0.001383</td>\n",
       "      <td>-0.052476</td>\n",
       "      <td>-0.010571</td>\n",
       "      <td>-0.062537</td>\n",
       "      <td>0.025961</td>\n",
       "      <td>-0.041845</td>\n",
       "      <td>0.014727</td>\n",
       "      <td>-0.006806</td>\n",
       "      <td>...</td>\n",
       "      <td>0.037176</td>\n",
       "      <td>0.102633</td>\n",
       "      <td>0.054783</td>\n",
       "      <td>0.057830</td>\n",
       "      <td>0.070375</td>\n",
       "      <td>0.094547</td>\n",
       "      <td>-0.029767</td>\n",
       "      <td>0.017444</td>\n",
       "      <td>-0.020438</td>\n",
       "      <td>0.000427</td>\n",
       "    </tr>\n",
       "    <tr>\n",
       "      <th>2021-09-30</th>\n",
       "      <td>0.080874</td>\n",
       "      <td>-0.095357</td>\n",
       "      <td>-0.005538</td>\n",
       "      <td>-0.020806</td>\n",
       "      <td>0.005037</td>\n",
       "      <td>-0.002970</td>\n",
       "      <td>-0.090414</td>\n",
       "      <td>0.029738</td>\n",
       "      <td>-0.056882</td>\n",
       "      <td>-0.167194</td>\n",
       "      <td>...</td>\n",
       "      <td>-0.044378</td>\n",
       "      <td>-0.076760</td>\n",
       "      <td>-0.083006</td>\n",
       "      <td>-0.046180</td>\n",
       "      <td>0.007668</td>\n",
       "      <td>-0.014695</td>\n",
       "      <td>-0.057628</td>\n",
       "      <td>-0.092022</td>\n",
       "      <td>-0.038053</td>\n",
       "      <td>-0.154371</td>\n",
       "    </tr>\n",
       "    <tr>\n",
       "      <th>2021-10-31</th>\n",
       "      <td>-0.066397</td>\n",
       "      <td>0.042311</td>\n",
       "      <td>-0.037939</td>\n",
       "      <td>0.032386</td>\n",
       "      <td>-0.054214</td>\n",
       "      <td>0.035422</td>\n",
       "      <td>-0.016692</td>\n",
       "      <td>0.054132</td>\n",
       "      <td>0.020601</td>\n",
       "      <td>0.070999</td>\n",
       "      <td>...</td>\n",
       "      <td>0.062514</td>\n",
       "      <td>0.089034</td>\n",
       "      <td>0.072211</td>\n",
       "      <td>0.022784</td>\n",
       "      <td>-0.011556</td>\n",
       "      <td>0.019280</td>\n",
       "      <td>0.051914</td>\n",
       "      <td>0.010790</td>\n",
       "      <td>0.000930</td>\n",
       "      <td>0.028492</td>\n",
       "    </tr>\n",
       "    <tr>\n",
       "      <th>2021-11-30</th>\n",
       "      <td>-0.100361</td>\n",
       "      <td>-0.097953</td>\n",
       "      <td>-0.106639</td>\n",
       "      <td>-0.043301</td>\n",
       "      <td>-0.070649</td>\n",
       "      <td>-0.085268</td>\n",
       "      <td>-0.040044</td>\n",
       "      <td>-0.025905</td>\n",
       "      <td>-0.079523</td>\n",
       "      <td>-0.067179</td>\n",
       "      <td>...</td>\n",
       "      <td>0.029628</td>\n",
       "      <td>0.026450</td>\n",
       "      <td>-0.096872</td>\n",
       "      <td>0.119387</td>\n",
       "      <td>0.007129</td>\n",
       "      <td>0.083155</td>\n",
       "      <td>0.041405</td>\n",
       "      <td>-0.065955</td>\n",
       "      <td>-0.165927</td>\n",
       "      <td>-0.016180</td>\n",
       "    </tr>\n",
       "    <tr>\n",
       "      <th>2021-12-31</th>\n",
       "      <td>0.087480</td>\n",
       "      <td>-0.009196</td>\n",
       "      <td>0.131113</td>\n",
       "      <td>0.079038</td>\n",
       "      <td>0.067381</td>\n",
       "      <td>0.055705</td>\n",
       "      <td>0.024484</td>\n",
       "      <td>0.041304</td>\n",
       "      <td>0.051255</td>\n",
       "      <td>-0.016790</td>\n",
       "      <td>...</td>\n",
       "      <td>-0.000204</td>\n",
       "      <td>0.045974</td>\n",
       "      <td>0.103552</td>\n",
       "      <td>0.023321</td>\n",
       "      <td>0.080691</td>\n",
       "      <td>-0.019440</td>\n",
       "      <td>0.046586</td>\n",
       "      <td>-0.010204</td>\n",
       "      <td>0.097860</td>\n",
       "      <td>-0.113631</td>\n",
       "    </tr>\n",
       "  </tbody>\n",
       "</table>\n",
       "<p>5 rows × 40 columns</p>\n",
       "</div>"
      ],
      "text/plain": [
       "              ADS-DE    AIR-DE    ALV-DE    BAS-DE   BAYN-DE    BEI-DE  \\\n",
       "Date                                                                     \n",
       "2021-08-31  0.011795 -0.018458 -0.001383 -0.052476 -0.010571 -0.062537   \n",
       "2021-09-30  0.080874 -0.095357 -0.005538 -0.020806  0.005037 -0.002970   \n",
       "2021-10-31 -0.066397  0.042311 -0.037939  0.032386 -0.054214  0.035422   \n",
       "2021-11-30 -0.100361 -0.097953 -0.106639 -0.043301 -0.070649 -0.085268   \n",
       "2021-12-31  0.087480 -0.009196  0.131113  0.079038  0.067381  0.055705   \n",
       "\n",
       "              BMW-DE    BNR-DE    CON-DE   1COV-DE  ...    RWE-DE    SAP-DE  \\\n",
       "Date                                                ...                       \n",
       "2021-08-31  0.025961 -0.041845  0.014727 -0.006806  ...  0.037176  0.102633   \n",
       "2021-09-30 -0.090414  0.029738 -0.056882 -0.167194  ... -0.044378 -0.076760   \n",
       "2021-10-31 -0.016692  0.054132  0.020601  0.070999  ...  0.062514  0.089034   \n",
       "2021-11-30 -0.040044 -0.025905 -0.079523 -0.067179  ...  0.029628  0.026450   \n",
       "2021-12-31  0.024484  0.041304  0.051255 -0.016790  ... -0.000204  0.045974   \n",
       "\n",
       "             SRT3-DE    SIE-DE    ENR-DE    SHL-DE    SY1-DE   VOW3-DE  \\\n",
       "Date                                                                     \n",
       "2021-08-31  0.054783  0.057830  0.070375  0.094547 -0.029767  0.017444   \n",
       "2021-09-30 -0.083006 -0.046180  0.007668 -0.014695 -0.057628 -0.092022   \n",
       "2021-10-31  0.072211  0.022784 -0.011556  0.019280  0.051914  0.010790   \n",
       "2021-11-30 -0.096872  0.119387  0.007129  0.083155  0.041405 -0.065955   \n",
       "2021-12-31  0.103552  0.023321  0.080691 -0.019440  0.046586 -0.010204   \n",
       "\n",
       "              VNA-DE    ZAL-DE  \n",
       "Date                            \n",
       "2021-08-31 -0.020438  0.000427  \n",
       "2021-09-30 -0.038053 -0.154371  \n",
       "2021-10-31  0.000930  0.028492  \n",
       "2021-11-30 -0.165927 -0.016180  \n",
       "2021-12-31  0.097860 -0.113631  \n",
       "\n",
       "[5 rows x 40 columns]"
      ]
     },
     "execution_count": 64,
     "metadata": {},
     "output_type": "execute_result"
    }
   ],
   "source": [
    "mtl_rets.tail()"
   ]
  },
  {
   "cell_type": "code",
   "execution_count": 76,
   "id": "3396e48e",
   "metadata": {},
   "outputs": [],
   "source": [
    "profits=[]\n",
    "dates=[] ## setup some empty lists for storing up the data later\n",
    "\n",
    "for i in range(132):\n",
    "    profits.append(momentum(formation_date + MonthEnd(i)))\n",
    "    dates.append(formation_date + MonthEnd(i))\n"
   ]
  },
  {
   "cell_type": "code",
   "execution_count": 102,
   "id": "7fcc91a2",
   "metadata": {},
   "outputs": [],
   "source": [
    "# converting lists to df\n",
    "\n",
    "mom_profit=pd.DataFrame(profits)\n",
    "mom_dates=pd.DataFrame(dates)\n",
    "\n",
    "# concatenating the two dfs\n",
    "\n",
    "comb_df=pd.concat([mom_dates, mom_profit], axis=1)\n",
    "\n",
    "# changing the column names\n",
    "\n",
    "comb_df.columns=[\"Date\", \"Returns\"]\n",
    "\n"
   ]
  },
  {
   "cell_type": "code",
   "execution_count": 103,
   "id": "c0b04f8f",
   "metadata": {},
   "outputs": [
    {
     "data": {
      "text/html": [
       "<div>\n",
       "<style scoped>\n",
       "    .dataframe tbody tr th:only-of-type {\n",
       "        vertical-align: middle;\n",
       "    }\n",
       "\n",
       "    .dataframe tbody tr th {\n",
       "        vertical-align: top;\n",
       "    }\n",
       "\n",
       "    .dataframe thead th {\n",
       "        text-align: right;\n",
       "    }\n",
       "</style>\n",
       "<table border=\"1\" class=\"dataframe\">\n",
       "  <thead>\n",
       "    <tr style=\"text-align: right;\">\n",
       "      <th></th>\n",
       "      <th>Date</th>\n",
       "      <th>Returns</th>\n",
       "    </tr>\n",
       "  </thead>\n",
       "  <tbody>\n",
       "    <tr>\n",
       "      <th>0</th>\n",
       "      <td>2011-01-31</td>\n",
       "      <td>0.020625</td>\n",
       "    </tr>\n",
       "    <tr>\n",
       "      <th>1</th>\n",
       "      <td>2011-01-31</td>\n",
       "      <td>0.020625</td>\n",
       "    </tr>\n",
       "    <tr>\n",
       "      <th>2</th>\n",
       "      <td>2011-02-28</td>\n",
       "      <td>-0.005771</td>\n",
       "    </tr>\n",
       "    <tr>\n",
       "      <th>3</th>\n",
       "      <td>2011-03-31</td>\n",
       "      <td>0.073325</td>\n",
       "    </tr>\n",
       "    <tr>\n",
       "      <th>4</th>\n",
       "      <td>2011-04-30</td>\n",
       "      <td>0.002130</td>\n",
       "    </tr>\n",
       "    <tr>\n",
       "      <th>...</th>\n",
       "      <td>...</td>\n",
       "      <td>...</td>\n",
       "    </tr>\n",
       "    <tr>\n",
       "      <th>127</th>\n",
       "      <td>2021-07-31</td>\n",
       "      <td>0.012300</td>\n",
       "    </tr>\n",
       "    <tr>\n",
       "      <th>128</th>\n",
       "      <td>2021-08-31</td>\n",
       "      <td>-0.031163</td>\n",
       "    </tr>\n",
       "    <tr>\n",
       "      <th>129</th>\n",
       "      <td>2021-09-30</td>\n",
       "      <td>0.030444</td>\n",
       "    </tr>\n",
       "    <tr>\n",
       "      <th>130</th>\n",
       "      <td>2021-10-31</td>\n",
       "      <td>-0.052321</td>\n",
       "    </tr>\n",
       "    <tr>\n",
       "      <th>131</th>\n",
       "      <td>2021-11-30</td>\n",
       "      <td>0.053493</td>\n",
       "    </tr>\n",
       "  </tbody>\n",
       "</table>\n",
       "<p>132 rows × 2 columns</p>\n",
       "</div>"
      ],
      "text/plain": [
       "          Date   Returns\n",
       "0   2011-01-31  0.020625\n",
       "1   2011-01-31  0.020625\n",
       "2   2011-02-28 -0.005771\n",
       "3   2011-03-31  0.073325\n",
       "4   2011-04-30  0.002130\n",
       "..         ...       ...\n",
       "127 2021-07-31  0.012300\n",
       "128 2021-08-31 -0.031163\n",
       "129 2021-09-30  0.030444\n",
       "130 2021-10-31 -0.052321\n",
       "131 2021-11-30  0.053493\n",
       "\n",
       "[132 rows x 2 columns]"
      ]
     },
     "execution_count": 103,
     "metadata": {},
     "output_type": "execute_result"
    }
   ],
   "source": [
    "comb_df"
   ]
  },
  {
   "cell_type": "code",
   "execution_count": 104,
   "id": "492f2bd2",
   "metadata": {},
   "outputs": [
    {
     "data": {
      "text/plain": [
       "0      False\n",
       "1       True\n",
       "2      False\n",
       "3      False\n",
       "4      False\n",
       "       ...  \n",
       "127    False\n",
       "128    False\n",
       "129    False\n",
       "130    False\n",
       "131    False\n",
       "Length: 132, dtype: bool"
      ]
     },
     "execution_count": 104,
     "metadata": {},
     "output_type": "execute_result"
    }
   ],
   "source": [
    "# Indentifying duplicate row(s)\n",
    "\n",
    "comb_df.duplicated()"
   ]
  },
  {
   "cell_type": "code",
   "execution_count": 105,
   "id": "3c279db1",
   "metadata": {},
   "outputs": [],
   "source": [
    "# Removing the duplicate row while keeping the first row still in the df\n",
    "\n",
    "comb_df=comb_df.drop_duplicates(subset=None, keep=\"first\", inplace=False)"
   ]
  },
  {
   "cell_type": "code",
   "execution_count": 106,
   "id": "62593428",
   "metadata": {},
   "outputs": [
    {
     "data": {
      "text/html": [
       "<div>\n",
       "<style scoped>\n",
       "    .dataframe tbody tr th:only-of-type {\n",
       "        vertical-align: middle;\n",
       "    }\n",
       "\n",
       "    .dataframe tbody tr th {\n",
       "        vertical-align: top;\n",
       "    }\n",
       "\n",
       "    .dataframe thead th {\n",
       "        text-align: right;\n",
       "    }\n",
       "</style>\n",
       "<table border=\"1\" class=\"dataframe\">\n",
       "  <thead>\n",
       "    <tr style=\"text-align: right;\">\n",
       "      <th></th>\n",
       "      <th>Date</th>\n",
       "      <th>Returns</th>\n",
       "    </tr>\n",
       "  </thead>\n",
       "  <tbody>\n",
       "    <tr>\n",
       "      <th>0</th>\n",
       "      <td>2011-01-31</td>\n",
       "      <td>0.020625</td>\n",
       "    </tr>\n",
       "    <tr>\n",
       "      <th>2</th>\n",
       "      <td>2011-02-28</td>\n",
       "      <td>-0.005771</td>\n",
       "    </tr>\n",
       "    <tr>\n",
       "      <th>3</th>\n",
       "      <td>2011-03-31</td>\n",
       "      <td>0.073325</td>\n",
       "    </tr>\n",
       "    <tr>\n",
       "      <th>4</th>\n",
       "      <td>2011-04-30</td>\n",
       "      <td>0.002130</td>\n",
       "    </tr>\n",
       "    <tr>\n",
       "      <th>5</th>\n",
       "      <td>2011-05-31</td>\n",
       "      <td>0.030790</td>\n",
       "    </tr>\n",
       "    <tr>\n",
       "      <th>...</th>\n",
       "      <td>...</td>\n",
       "      <td>...</td>\n",
       "    </tr>\n",
       "    <tr>\n",
       "      <th>127</th>\n",
       "      <td>2021-07-31</td>\n",
       "      <td>0.012300</td>\n",
       "    </tr>\n",
       "    <tr>\n",
       "      <th>128</th>\n",
       "      <td>2021-08-31</td>\n",
       "      <td>-0.031163</td>\n",
       "    </tr>\n",
       "    <tr>\n",
       "      <th>129</th>\n",
       "      <td>2021-09-30</td>\n",
       "      <td>0.030444</td>\n",
       "    </tr>\n",
       "    <tr>\n",
       "      <th>130</th>\n",
       "      <td>2021-10-31</td>\n",
       "      <td>-0.052321</td>\n",
       "    </tr>\n",
       "    <tr>\n",
       "      <th>131</th>\n",
       "      <td>2021-11-30</td>\n",
       "      <td>0.053493</td>\n",
       "    </tr>\n",
       "  </tbody>\n",
       "</table>\n",
       "<p>131 rows × 2 columns</p>\n",
       "</div>"
      ],
      "text/plain": [
       "          Date   Returns\n",
       "0   2011-01-31  0.020625\n",
       "2   2011-02-28 -0.005771\n",
       "3   2011-03-31  0.073325\n",
       "4   2011-04-30  0.002130\n",
       "5   2011-05-31  0.030790\n",
       "..         ...       ...\n",
       "127 2021-07-31  0.012300\n",
       "128 2021-08-31 -0.031163\n",
       "129 2021-09-30  0.030444\n",
       "130 2021-10-31 -0.052321\n",
       "131 2021-11-30  0.053493\n",
       "\n",
       "[131 rows x 2 columns]"
      ]
     },
     "execution_count": 106,
     "metadata": {},
     "output_type": "execute_result"
    }
   ],
   "source": [
    "comb_df"
   ]
  },
  {
   "cell_type": "markdown",
   "id": "7d46f803",
   "metadata": {},
   "source": [
    "\n",
    "#### Comparing the above derived mom profits to the DAX index's returns"
   ]
  },
  {
   "cell_type": "code",
   "execution_count": 80,
   "id": "c43a91a7",
   "metadata": {},
   "outputs": [
    {
     "name": "stdout",
     "output_type": "stream",
     "text": [
      "[*********************100%***********************]  1 of 1 completed\n"
     ]
    }
   ],
   "source": [
    "dax40=yf.download(\"^GDAXI\", start=dates[0], end=dates[-1])"
   ]
  },
  {
   "cell_type": "code",
   "execution_count": 81,
   "id": "77004c0b",
   "metadata": {},
   "outputs": [],
   "source": [
    "dax40=dax40[\"Adj Close\"]"
   ]
  },
  {
   "cell_type": "code",
   "execution_count": 82,
   "id": "6a4c1b16",
   "metadata": {},
   "outputs": [
    {
     "data": {
      "text/plain": [
       "Date\n",
       "2011-01-31    7077.479980\n",
       "2011-02-01    7184.270020\n",
       "2011-02-02    7183.669922\n",
       "Name: Adj Close, dtype: float64"
      ]
     },
     "execution_count": 82,
     "metadata": {},
     "output_type": "execute_result"
    }
   ],
   "source": [
    "dax40.head(3)"
   ]
  },
  {
   "cell_type": "code",
   "execution_count": 83,
   "id": "ccbb49d0",
   "metadata": {},
   "outputs": [],
   "source": [
    "# calculating monthly pct_change from the daily returns\n",
    "\n",
    "dax_mtl=dax40.pct_change().resample(\"M\").agg(lambda x:(x-1).prod()-1)"
   ]
  },
  {
   "cell_type": "code",
   "execution_count": 84,
   "id": "a2206138",
   "metadata": {},
   "outputs": [
    {
     "data": {
      "text/plain": [
       "Date\n",
       "2011-01-31    0.000000\n",
       "2011-02-28   -0.027938\n",
       "2011-03-31   -2.028858\n",
       "2011-04-30   -1.934756\n",
       "2011-05-31    0.027854\n",
       "                ...   \n",
       "2021-07-31   -0.003049\n",
       "2021-08-31   -0.018772\n",
       "2021-09-30    0.035489\n",
       "2021-10-31   -1.971431\n",
       "2021-11-30   -2.024525\n",
       "Freq: M, Name: Adj Close, Length: 131, dtype: float64"
      ]
     },
     "execution_count": 84,
     "metadata": {},
     "output_type": "execute_result"
    }
   ],
   "source": [
    "dax_mtl"
   ]
  },
  {
   "cell_type": "code",
   "execution_count": 85,
   "id": "d522ecc7",
   "metadata": {},
   "outputs": [
    {
     "data": {
      "text/plain": [
       "(131,)"
      ]
     },
     "execution_count": 85,
     "metadata": {},
     "output_type": "execute_result"
    }
   ],
   "source": [
    "dax_mtl.shape"
   ]
  },
  {
   "cell_type": "markdown",
   "id": "0764df78",
   "metadata": {},
   "source": [
    "#### Combining dax returns and mom profits into a same df"
   ]
  },
  {
   "cell_type": "code",
   "execution_count": 107,
   "id": "3ffdcb9b",
   "metadata": {},
   "outputs": [
    {
     "name": "stderr",
     "output_type": "stream",
     "text": [
      "C:\\Users\\user\\AppData\\Local\\Temp\\ipykernel_4120\\3757022027.py:1: SettingWithCopyWarning: \n",
      "A value is trying to be set on a copy of a slice from a DataFrame.\n",
      "Try using .loc[row_indexer,col_indexer] = value instead\n",
      "\n",
      "See the caveats in the documentation: https://pandas.pydata.org/pandas-docs/stable/user_guide/indexing.html#returning-a-view-versus-a-copy\n",
      "  comb_df[\"Dax40\"]=dax_mtl.values\n"
     ]
    },
    {
     "data": {
      "text/html": [
       "<div>\n",
       "<style scoped>\n",
       "    .dataframe tbody tr th:only-of-type {\n",
       "        vertical-align: middle;\n",
       "    }\n",
       "\n",
       "    .dataframe tbody tr th {\n",
       "        vertical-align: top;\n",
       "    }\n",
       "\n",
       "    .dataframe thead th {\n",
       "        text-align: right;\n",
       "    }\n",
       "</style>\n",
       "<table border=\"1\" class=\"dataframe\">\n",
       "  <thead>\n",
       "    <tr style=\"text-align: right;\">\n",
       "      <th></th>\n",
       "      <th>Date</th>\n",
       "      <th>Returns</th>\n",
       "      <th>Dax40</th>\n",
       "    </tr>\n",
       "  </thead>\n",
       "  <tbody>\n",
       "    <tr>\n",
       "      <th>0</th>\n",
       "      <td>2011-01-31</td>\n",
       "      <td>0.020625</td>\n",
       "      <td>0.000000</td>\n",
       "    </tr>\n",
       "    <tr>\n",
       "      <th>2</th>\n",
       "      <td>2011-02-28</td>\n",
       "      <td>-0.005771</td>\n",
       "      <td>-0.027938</td>\n",
       "    </tr>\n",
       "    <tr>\n",
       "      <th>3</th>\n",
       "      <td>2011-03-31</td>\n",
       "      <td>0.073325</td>\n",
       "      <td>-2.028858</td>\n",
       "    </tr>\n",
       "  </tbody>\n",
       "</table>\n",
       "</div>"
      ],
      "text/plain": [
       "        Date   Returns     Dax40\n",
       "0 2011-01-31  0.020625  0.000000\n",
       "2 2011-02-28 -0.005771 -0.027938\n",
       "3 2011-03-31  0.073325 -2.028858"
      ]
     },
     "execution_count": 107,
     "metadata": {},
     "output_type": "execute_result"
    }
   ],
   "source": [
    "comb_df[\"Dax40\"]=dax_mtl.values\n",
    "comb_df.head(3)"
   ]
  },
  {
   "cell_type": "code",
   "execution_count": 108,
   "id": "bcec7c12",
   "metadata": {},
   "outputs": [
    {
     "name": "stderr",
     "output_type": "stream",
     "text": [
      "C:\\Users\\user\\AppData\\Local\\Temp\\ipykernel_4120\\542529438.py:1: SettingWithCopyWarning: \n",
      "A value is trying to be set on a copy of a slice from a DataFrame.\n",
      "Try using .loc[row_indexer,col_indexer] = value instead\n",
      "\n",
      "See the caveats in the documentation: https://pandas.pydata.org/pandas-docs/stable/user_guide/indexing.html#returning-a-view-versus-a-copy\n",
      "  comb_df[\"Excess_Returns\"]=comb_df[\"Returns\"] - comb_df[\"Dax40\"]\n"
     ]
    }
   ],
   "source": [
    "comb_df[\"Excess_Returns\"]=comb_df[\"Returns\"] - comb_df[\"Dax40\"]"
   ]
  },
  {
   "cell_type": "code",
   "execution_count": 109,
   "id": "f0df2d9a",
   "metadata": {},
   "outputs": [
    {
     "data": {
      "text/html": [
       "<div>\n",
       "<style scoped>\n",
       "    .dataframe tbody tr th:only-of-type {\n",
       "        vertical-align: middle;\n",
       "    }\n",
       "\n",
       "    .dataframe tbody tr th {\n",
       "        vertical-align: top;\n",
       "    }\n",
       "\n",
       "    .dataframe thead th {\n",
       "        text-align: right;\n",
       "    }\n",
       "</style>\n",
       "<table border=\"1\" class=\"dataframe\">\n",
       "  <thead>\n",
       "    <tr style=\"text-align: right;\">\n",
       "      <th></th>\n",
       "      <th>Date</th>\n",
       "      <th>Returns</th>\n",
       "      <th>Dax40</th>\n",
       "      <th>Excess_Returns</th>\n",
       "    </tr>\n",
       "  </thead>\n",
       "  <tbody>\n",
       "    <tr>\n",
       "      <th>0</th>\n",
       "      <td>2011-01-31</td>\n",
       "      <td>0.020625</td>\n",
       "      <td>0.000000</td>\n",
       "      <td>0.020625</td>\n",
       "    </tr>\n",
       "    <tr>\n",
       "      <th>2</th>\n",
       "      <td>2011-02-28</td>\n",
       "      <td>-0.005771</td>\n",
       "      <td>-0.027938</td>\n",
       "      <td>0.022166</td>\n",
       "    </tr>\n",
       "    <tr>\n",
       "      <th>3</th>\n",
       "      <td>2011-03-31</td>\n",
       "      <td>0.073325</td>\n",
       "      <td>-2.028858</td>\n",
       "      <td>2.102183</td>\n",
       "    </tr>\n",
       "  </tbody>\n",
       "</table>\n",
       "</div>"
      ],
      "text/plain": [
       "        Date   Returns     Dax40  Excess_Returns\n",
       "0 2011-01-31  0.020625  0.000000        0.020625\n",
       "2 2011-02-28 -0.005771 -0.027938        0.022166\n",
       "3 2011-03-31  0.073325 -2.028858        2.102183"
      ]
     },
     "execution_count": 109,
     "metadata": {},
     "output_type": "execute_result"
    }
   ],
   "source": [
    "comb_df.head(3)"
   ]
  },
  {
   "cell_type": "code",
   "execution_count": 110,
   "id": "5cf892da",
   "metadata": {},
   "outputs": [
    {
     "name": "stderr",
     "output_type": "stream",
     "text": [
      "C:\\Users\\user\\AppData\\Local\\Temp\\ipykernel_4120\\3931131111.py:3: SettingWithCopyWarning: \n",
      "A value is trying to be set on a copy of a slice from a DataFrame.\n",
      "Try using .loc[row_indexer,col_indexer] = value instead\n",
      "\n",
      "See the caveats in the documentation: https://pandas.pydata.org/pandas-docs/stable/user_guide/indexing.html#returning-a-view-versus-a-copy\n",
      "  comb_df[\"Outperformed\"]=[\"Yes\" if i > 0 else \"No\" for i in comb_df.Excess_Returns]\n"
     ]
    }
   ],
   "source": [
    "# Outperformed or not ?? Using list comprehension\n",
    "\n",
    "comb_df[\"Outperformed\"]=[\"Yes\" if i > 0 else \"No\" for i in comb_df.Excess_Returns]"
   ]
  },
  {
   "cell_type": "code",
   "execution_count": 111,
   "id": "012bae32",
   "metadata": {},
   "outputs": [
    {
     "data": {
      "text/html": [
       "<div>\n",
       "<style scoped>\n",
       "    .dataframe tbody tr th:only-of-type {\n",
       "        vertical-align: middle;\n",
       "    }\n",
       "\n",
       "    .dataframe tbody tr th {\n",
       "        vertical-align: top;\n",
       "    }\n",
       "\n",
       "    .dataframe thead th {\n",
       "        text-align: right;\n",
       "    }\n",
       "</style>\n",
       "<table border=\"1\" class=\"dataframe\">\n",
       "  <thead>\n",
       "    <tr style=\"text-align: right;\">\n",
       "      <th></th>\n",
       "      <th>Date</th>\n",
       "      <th>Returns</th>\n",
       "      <th>Dax40</th>\n",
       "      <th>Excess_Returns</th>\n",
       "      <th>Outperformed</th>\n",
       "    </tr>\n",
       "  </thead>\n",
       "  <tbody>\n",
       "    <tr>\n",
       "      <th>0</th>\n",
       "      <td>2011-01-31</td>\n",
       "      <td>0.020625</td>\n",
       "      <td>0.000000</td>\n",
       "      <td>0.020625</td>\n",
       "      <td>Yes</td>\n",
       "    </tr>\n",
       "    <tr>\n",
       "      <th>2</th>\n",
       "      <td>2011-02-28</td>\n",
       "      <td>-0.005771</td>\n",
       "      <td>-0.027938</td>\n",
       "      <td>0.022166</td>\n",
       "      <td>Yes</td>\n",
       "    </tr>\n",
       "    <tr>\n",
       "      <th>3</th>\n",
       "      <td>2011-03-31</td>\n",
       "      <td>0.073325</td>\n",
       "      <td>-2.028858</td>\n",
       "      <td>2.102183</td>\n",
       "      <td>Yes</td>\n",
       "    </tr>\n",
       "  </tbody>\n",
       "</table>\n",
       "</div>"
      ],
      "text/plain": [
       "        Date   Returns     Dax40  Excess_Returns Outperformed\n",
       "0 2011-01-31  0.020625  0.000000        0.020625          Yes\n",
       "2 2011-02-28 -0.005771 -0.027938        0.022166          Yes\n",
       "3 2011-03-31  0.073325 -2.028858        2.102183          Yes"
      ]
     },
     "execution_count": 111,
     "metadata": {},
     "output_type": "execute_result"
    }
   ],
   "source": [
    "comb_df.head(3)"
   ]
  },
  {
   "cell_type": "code",
   "execution_count": 113,
   "id": "3f021335",
   "metadata": {},
   "outputs": [
    {
     "data": {
      "text/plain": [
       "(108, 5)"
      ]
     },
     "execution_count": 113,
     "metadata": {},
     "output_type": "execute_result"
    }
   ],
   "source": [
    "# Hit rate ?? Yes/Total\n",
    "\n",
    "comb_df[comb_df.Outperformed==\"Yes\"].shape"
   ]
  },
  {
   "cell_type": "code",
   "execution_count": 115,
   "id": "0759c505",
   "metadata": {},
   "outputs": [
    {
     "data": {
      "text/plain": [
       "(131, 5)"
      ]
     },
     "execution_count": 115,
     "metadata": {},
     "output_type": "execute_result"
    }
   ],
   "source": [
    "comb_df.shape"
   ]
  },
  {
   "cell_type": "code",
   "execution_count": 116,
   "id": "613c6948",
   "metadata": {},
   "outputs": [
    {
     "data": {
      "text/plain": [
       "0.8244274809160306"
      ]
     },
     "execution_count": 116,
     "metadata": {},
     "output_type": "execute_result"
    }
   ],
   "source": [
    "108/131"
   ]
  },
  {
   "cell_type": "markdown",
   "id": "44144916",
   "metadata": {},
   "source": [
    "#### Hit rate of 82.44 % is extremely good. There must be something wrong with my code :D"
   ]
  },
  {
   "cell_type": "code",
   "execution_count": null,
   "id": "d1c36c6c",
   "metadata": {},
   "outputs": [],
   "source": []
  },
  {
   "cell_type": "code",
   "execution_count": null,
   "id": "3a4c03f5",
   "metadata": {},
   "outputs": [],
   "source": []
  },
  {
   "cell_type": "code",
   "execution_count": null,
   "id": "7f0052b7",
   "metadata": {},
   "outputs": [],
   "source": []
  },
  {
   "cell_type": "code",
   "execution_count": null,
   "id": "6cad19ea",
   "metadata": {},
   "outputs": [],
   "source": []
  },
  {
   "cell_type": "code",
   "execution_count": null,
   "id": "16b13e99",
   "metadata": {},
   "outputs": [],
   "source": []
  },
  {
   "cell_type": "code",
   "execution_count": null,
   "id": "f0eaafb3",
   "metadata": {},
   "outputs": [],
   "source": []
  }
 ],
 "metadata": {
  "kernelspec": {
   "display_name": "Python 3 (ipykernel)",
   "language": "python",
   "name": "python3"
  },
  "language_info": {
   "codemirror_mode": {
    "name": "ipython",
    "version": 3
   },
   "file_extension": ".py",
   "mimetype": "text/x-python",
   "name": "python",
   "nbconvert_exporter": "python",
   "pygments_lexer": "ipython3",
   "version": "3.9.13"
  }
 },
 "nbformat": 4,
 "nbformat_minor": 5
}
